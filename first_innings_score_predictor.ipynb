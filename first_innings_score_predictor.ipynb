{
 "cells": [
  {
   "attachments": {},
   "cell_type": "markdown",
   "metadata": {},
   "source": [
    "# IPL First Innings Score Prediction Model"
   ]
  },
  {
   "attachments": {},
   "cell_type": "markdown",
   "metadata": {},
   "source": [
    "## Background\n",
    "\n",
    "Here, a regression model is created to predict first innings score in an Indian Premier League (IPL) game. Assumptions of the model are:\n",
    "- First Innings score only\n",
    "- Only current teams considered\n",
    "- Only Indian venues considered\n",
    "- Score prediction after the batting team has played at least 5 overs, i.e., score after 5 overs required\n",
    "- The model also requires the runs scored and wickets in the last 5 overs\n",
    "\n",
    "The model returns a predicted total score for the team batting first."
   ]
  },
  {
   "attachments": {},
   "cell_type": "markdown",
   "metadata": {},
   "source": [
    "## Dataset\n",
    "\n",
    "The dataset was acquired from kaggle: https://www.kaggle.com/datasets/patrickb1912/ipl-complete-dataset-20082020\n",
    "\n",
    "The dataset spans from 2008 to 2020 and consists of two tables. First is a ball by ball data of every match where each row is a single ball bowled in that match. Second is a overall match data where each row corresponds to a single match. The two tables were joined using the 'id' column in MS SQL Server. Furthermore, two additional were created: last5_runs (runs in last 5 overs) and last5_wickets (wickets in last 5 overs). Finally, the required data was exported as csv."
   ]
  },
  {
   "attachments": {},
   "cell_type": "markdown",
   "metadata": {},
   "source": [
    "## Importing necessary libraries and the dataset"
   ]
  },
  {
   "cell_type": "code",
   "execution_count": 67,
   "metadata": {},
   "outputs": [],
   "source": [
    "import pandas as pd\n",
    "import numpy as np\n",
    "import seaborn as sns\n",
    "import matplotlib.pyplot as plt\n",
    "import pickle\n"
   ]
  },
  {
   "cell_type": "code",
   "execution_count": 68,
   "metadata": {},
   "outputs": [
    {
     "data": {
      "text/html": [
       "<div>\n",
       "<style scoped>\n",
       "    .dataframe tbody tr th:only-of-type {\n",
       "        vertical-align: middle;\n",
       "    }\n",
       "\n",
       "    .dataframe tbody tr th {\n",
       "        vertical-align: top;\n",
       "    }\n",
       "\n",
       "    .dataframe thead th {\n",
       "        text-align: right;\n",
       "    }\n",
       "</style>\n",
       "<table border=\"1\" class=\"dataframe\">\n",
       "  <thead>\n",
       "    <tr style=\"text-align: right;\">\n",
       "      <th></th>\n",
       "      <th>id</th>\n",
       "      <th>date</th>\n",
       "      <th>venue</th>\n",
       "      <th>inning</th>\n",
       "      <th>batting_team</th>\n",
       "      <th>bowling_team</th>\n",
       "      <th>over</th>\n",
       "      <th>runs</th>\n",
       "      <th>wickets</th>\n",
       "      <th>last5_runs</th>\n",
       "      <th>last5_wickets</th>\n",
       "      <th>total</th>\n",
       "    </tr>\n",
       "  </thead>\n",
       "  <tbody>\n",
       "    <tr>\n",
       "      <th>0</th>\n",
       "      <td>335982</td>\n",
       "      <td>2008-04-18</td>\n",
       "      <td>M Chinnaswamy Stadium</td>\n",
       "      <td>1</td>\n",
       "      <td>Kolkata Knight Riders</td>\n",
       "      <td>Royal Challengers Bangalore</td>\n",
       "      <td>0</td>\n",
       "      <td>1</td>\n",
       "      <td>0</td>\n",
       "      <td>1</td>\n",
       "      <td>0</td>\n",
       "      <td>222</td>\n",
       "    </tr>\n",
       "    <tr>\n",
       "      <th>1</th>\n",
       "      <td>335982</td>\n",
       "      <td>2008-04-18</td>\n",
       "      <td>M Chinnaswamy Stadium</td>\n",
       "      <td>1</td>\n",
       "      <td>Kolkata Knight Riders</td>\n",
       "      <td>Royal Challengers Bangalore</td>\n",
       "      <td>0</td>\n",
       "      <td>1</td>\n",
       "      <td>0</td>\n",
       "      <td>1</td>\n",
       "      <td>0</td>\n",
       "      <td>222</td>\n",
       "    </tr>\n",
       "    <tr>\n",
       "      <th>2</th>\n",
       "      <td>335982</td>\n",
       "      <td>2008-04-18</td>\n",
       "      <td>M Chinnaswamy Stadium</td>\n",
       "      <td>1</td>\n",
       "      <td>Kolkata Knight Riders</td>\n",
       "      <td>Royal Challengers Bangalore</td>\n",
       "      <td>0</td>\n",
       "      <td>2</td>\n",
       "      <td>0</td>\n",
       "      <td>2</td>\n",
       "      <td>0</td>\n",
       "      <td>222</td>\n",
       "    </tr>\n",
       "    <tr>\n",
       "      <th>3</th>\n",
       "      <td>335982</td>\n",
       "      <td>2008-04-18</td>\n",
       "      <td>M Chinnaswamy Stadium</td>\n",
       "      <td>1</td>\n",
       "      <td>Kolkata Knight Riders</td>\n",
       "      <td>Royal Challengers Bangalore</td>\n",
       "      <td>0</td>\n",
       "      <td>2</td>\n",
       "      <td>0</td>\n",
       "      <td>2</td>\n",
       "      <td>0</td>\n",
       "      <td>222</td>\n",
       "    </tr>\n",
       "    <tr>\n",
       "      <th>4</th>\n",
       "      <td>335982</td>\n",
       "      <td>2008-04-18</td>\n",
       "      <td>M Chinnaswamy Stadium</td>\n",
       "      <td>1</td>\n",
       "      <td>Kolkata Knight Riders</td>\n",
       "      <td>Royal Challengers Bangalore</td>\n",
       "      <td>0</td>\n",
       "      <td>2</td>\n",
       "      <td>0</td>\n",
       "      <td>2</td>\n",
       "      <td>0</td>\n",
       "      <td>222</td>\n",
       "    </tr>\n",
       "  </tbody>\n",
       "</table>\n",
       "</div>"
      ],
      "text/plain": [
       "       id        date                  venue  inning           batting_team  \\\n",
       "0  335982  2008-04-18  M Chinnaswamy Stadium       1  Kolkata Knight Riders   \n",
       "1  335982  2008-04-18  M Chinnaswamy Stadium       1  Kolkata Knight Riders   \n",
       "2  335982  2008-04-18  M Chinnaswamy Stadium       1  Kolkata Knight Riders   \n",
       "3  335982  2008-04-18  M Chinnaswamy Stadium       1  Kolkata Knight Riders   \n",
       "4  335982  2008-04-18  M Chinnaswamy Stadium       1  Kolkata Knight Riders   \n",
       "\n",
       "                  bowling_team  over  runs  wickets  last5_runs  \\\n",
       "0  Royal Challengers Bangalore     0     1        0           1   \n",
       "1  Royal Challengers Bangalore     0     1        0           1   \n",
       "2  Royal Challengers Bangalore     0     2        0           2   \n",
       "3  Royal Challengers Bangalore     0     2        0           2   \n",
       "4  Royal Challengers Bangalore     0     2        0           2   \n",
       "\n",
       "   last5_wickets  total  \n",
       "0              0    222  \n",
       "1              0    222  \n",
       "2              0    222  \n",
       "3              0    222  \n",
       "4              0    222  "
      ]
     },
     "execution_count": 68,
     "metadata": {},
     "output_type": "execute_result"
    }
   ],
   "source": [
    "df = pd.read_csv('./data/data.csv')\n",
    "df.head()\n"
   ]
  },
  {
   "cell_type": "code",
   "execution_count": 69,
   "metadata": {},
   "outputs": [
    {
     "name": "stdout",
     "output_type": "stream",
     "text": [
      "<class 'pandas.core.frame.DataFrame'>\n",
      "RangeIndex: 193468 entries, 0 to 193467\n",
      "Data columns (total 12 columns):\n",
      " #   Column         Non-Null Count   Dtype \n",
      "---  ------         --------------   ----- \n",
      " 0   id             193468 non-null  int64 \n",
      " 1   date           193468 non-null  object\n",
      " 2   venue          193468 non-null  object\n",
      " 3   inning         193468 non-null  int64 \n",
      " 4   batting_team   193468 non-null  object\n",
      " 5   bowling_team   193277 non-null  object\n",
      " 6   over           193468 non-null  int64 \n",
      " 7   runs           193468 non-null  int64 \n",
      " 8   wickets        193468 non-null  int64 \n",
      " 9   last5_runs     193468 non-null  int64 \n",
      " 10  last5_wickets  193468 non-null  int64 \n",
      " 11  total          193468 non-null  int64 \n",
      "dtypes: int64(8), object(4)\n",
      "memory usage: 17.7+ MB\n"
     ]
    }
   ],
   "source": [
    "df.info()\n"
   ]
  },
  {
   "attachments": {},
   "cell_type": "markdown",
   "metadata": {},
   "source": [
    "## Data Pre-Processing"
   ]
  },
  {
   "attachments": {},
   "cell_type": "markdown",
   "metadata": {},
   "source": [
    "#### Correcting data type of 'date' column"
   ]
  },
  {
   "cell_type": "code",
   "execution_count": 70,
   "metadata": {},
   "outputs": [
    {
     "name": "stdout",
     "output_type": "stream",
     "text": [
      "<class 'pandas.core.frame.DataFrame'>\n",
      "RangeIndex: 193468 entries, 0 to 193467\n",
      "Data columns (total 12 columns):\n",
      " #   Column         Non-Null Count   Dtype         \n",
      "---  ------         --------------   -----         \n",
      " 0   id             193468 non-null  int64         \n",
      " 1   date           193468 non-null  datetime64[ns]\n",
      " 2   venue          193468 non-null  object        \n",
      " 3   inning         193468 non-null  int64         \n",
      " 4   batting_team   193468 non-null  object        \n",
      " 5   bowling_team   193277 non-null  object        \n",
      " 6   over           193468 non-null  int64         \n",
      " 7   runs           193468 non-null  int64         \n",
      " 8   wickets        193468 non-null  int64         \n",
      " 9   last5_runs     193468 non-null  int64         \n",
      " 10  last5_wickets  193468 non-null  int64         \n",
      " 11  total          193468 non-null  int64         \n",
      "dtypes: datetime64[ns](1), int64(8), object(3)\n",
      "memory usage: 17.7+ MB\n"
     ]
    }
   ],
   "source": [
    "df.date = pd.to_datetime(df.date)\n",
    "df.info()\n"
   ]
  },
  {
   "attachments": {},
   "cell_type": "markdown",
   "metadata": {},
   "source": [
    "#### Replacing old team names"
   ]
  },
  {
   "cell_type": "code",
   "execution_count": 72,
   "metadata": {},
   "outputs": [],
   "source": [
    "df.batting_team.replace('Gujarat Lions', 'Gujarat Titans', inplace=True)\n",
    "df.bowling_team.replace('Gujarat Lions', 'Gujarat Titans', inplace=True)\n",
    "df.batting_team.replace('Delhi Daredevils', 'Delhi Capitals', inplace=True)\n",
    "df.bowling_team.replace('Delhi Daredevils', 'Delhi Capitals', inplace=True)\n"
   ]
  },
  {
   "cell_type": "code",
   "execution_count": 73,
   "metadata": {},
   "outputs": [
    {
     "data": {
      "text/plain": [
       "array(['Kolkata Knight Riders', 'Royal Challengers Bangalore',\n",
       "       'Chennai Super Kings', 'Kings XI Punjab', 'Rajasthan Royals',\n",
       "       'Delhi Capitals', 'Mumbai Indians', 'Deccan Chargers',\n",
       "       'Kochi Tuskers Kerala', 'Pune Warriors', 'Sunrisers Hyderabad',\n",
       "       'Rising Pune Supergiants', 'Gujarat Titans',\n",
       "       'Rising Pune Supergiant'], dtype=object)"
      ]
     },
     "execution_count": 73,
     "metadata": {},
     "output_type": "execute_result"
    }
   ],
   "source": [
    "df.batting_team.unique()\n"
   ]
  },
  {
   "cell_type": "code",
   "execution_count": 74,
   "metadata": {},
   "outputs": [
    {
     "data": {
      "text/plain": [
       "array(['Royal Challengers Bangalore', 'Kolkata Knight Riders',\n",
       "       'Kings XI Punjab', 'Chennai Super Kings', 'Delhi Capitals',\n",
       "       'Rajasthan Royals', 'Mumbai Indians', 'Deccan Chargers',\n",
       "       'Kochi Tuskers Kerala', 'Pune Warriors', nan,\n",
       "       'Sunrisers Hyderabad', 'Rising Pune Supergiants', 'Gujarat Titans',\n",
       "       'Rising Pune Supergiant'], dtype=object)"
      ]
     },
     "execution_count": 74,
     "metadata": {},
     "output_type": "execute_result"
    }
   ],
   "source": [
    "df.bowling_team.unique()\n"
   ]
  },
  {
   "attachments": {},
   "cell_type": "markdown",
   "metadata": {},
   "source": [
    "#### Filtering data to keep only active teams"
   ]
  },
  {
   "cell_type": "code",
   "execution_count": 75,
   "metadata": {},
   "outputs": [],
   "source": [
    "active_teams = ['Kolkata Knight Riders', 'Royal Challengers Bangalore',\n",
    "                'Chennai Super Kings', 'Kings XI Punjab', 'Rajasthan Royals',\n",
    "                'Mumbai Indians', 'Sunrisers Hyderabad', 'Delhi Capitals', 'Gujarat Titans']\n"
   ]
  },
  {
   "cell_type": "code",
   "execution_count": 76,
   "metadata": {},
   "outputs": [],
   "source": [
    "df = df[(df.batting_team.isin(active_teams)) &\n",
    "        (df.bowling_team.isin(active_teams))]\n"
   ]
  },
  {
   "attachments": {},
   "cell_type": "markdown",
   "metadata": {},
   "source": [
    "#### Filtering data to keep only last 15 overs"
   ]
  },
  {
   "cell_type": "code",
   "execution_count": 77,
   "metadata": {},
   "outputs": [],
   "source": [
    "df = df[df.over >= 5]\n"
   ]
  },
  {
   "attachments": {},
   "cell_type": "markdown",
   "metadata": {},
   "source": [
    "#### Filtering data to keep only first innings"
   ]
  },
  {
   "cell_type": "code",
   "execution_count": 78,
   "metadata": {},
   "outputs": [],
   "source": [
    "df = df[df.inning == 1]\n"
   ]
  },
  {
   "attachments": {},
   "cell_type": "markdown",
   "metadata": {},
   "source": [
    "#### Replacing venue names"
   ]
  },
  {
   "cell_type": "code",
   "execution_count": 79,
   "metadata": {},
   "outputs": [],
   "source": [
    "df.venue.replace('M Chinnaswamy Stadium',\n",
    "                 'M.Chinnaswamy Stadium', inplace=True)\n"
   ]
  },
  {
   "cell_type": "code",
   "execution_count": 80,
   "metadata": {},
   "outputs": [],
   "source": [
    "df.venue.replace('Punjab Cricket Association IS Bindra Stadium, Mohali',\n",
    "                 'Punjab Cricket Association Stadium, Mohali', inplace=True)\n"
   ]
  },
  {
   "cell_type": "code",
   "execution_count": 81,
   "metadata": {},
   "outputs": [],
   "source": [
    "df.venue.replace('Subrata Roy Sahara Stadium',\n",
    "                 'Maharashtra Cricket Association Stadium', inplace=True)\n"
   ]
  },
  {
   "cell_type": "code",
   "execution_count": 82,
   "metadata": {},
   "outputs": [
    {
     "data": {
      "text/plain": [
       "array(['M.Chinnaswamy Stadium',\n",
       "       'Punjab Cricket Association Stadium, Mohali', 'Feroz Shah Kotla',\n",
       "       'Wankhede Stadium', 'Sawai Mansingh Stadium',\n",
       "       'MA Chidambaram Stadium, Chepauk', 'Eden Gardens',\n",
       "       'Dr DY Patil Sports Academy', 'Newlands', \"St George's Park\",\n",
       "       'Kingsmead', 'SuperSport Park', 'Buffalo Park',\n",
       "       'New Wanderers Stadium', 'De Beers Diamond Oval',\n",
       "       'OUTsurance Oval', 'Brabourne Stadium',\n",
       "       'Sardar Patel Stadium, Motera',\n",
       "       'Himachal Pradesh Cricket Association Stadium',\n",
       "       'Maharashtra Cricket Association Stadium',\n",
       "       'Rajiv Gandhi International Stadium, Uppal',\n",
       "       'Shaheed Veer Narayan Singh International Stadium',\n",
       "       'JSCA International Stadium Complex', 'Sheikh Zayed Stadium',\n",
       "       'Sharjah Cricket Stadium', 'Dubai International Cricket Stadium',\n",
       "       'Barabati Stadium',\n",
       "       'Dr. Y.S. Rajasekhara Reddy ACA-VDCA Cricket Stadium',\n",
       "       'Saurashtra Cricket Association Stadium', 'Green Park',\n",
       "       'Holkar Cricket Stadium'], dtype=object)"
      ]
     },
     "execution_count": 82,
     "metadata": {},
     "output_type": "execute_result"
    }
   ],
   "source": [
    "df.venue.unique()\n"
   ]
  },
  {
   "cell_type": "code",
   "execution_count": 83,
   "metadata": {},
   "outputs": [
    {
     "data": {
      "text/plain": [
       "31"
      ]
     },
     "execution_count": 83,
     "metadata": {},
     "output_type": "execute_result"
    }
   ],
   "source": [
    "df.venue.nunique()\n"
   ]
  },
  {
   "attachments": {},
   "cell_type": "markdown",
   "metadata": {},
   "source": [
    "#### Filtering data to keep only indian venues"
   ]
  },
  {
   "cell_type": "code",
   "execution_count": 84,
   "metadata": {},
   "outputs": [],
   "source": [
    "indian_venues = ['M.Chinnaswamy Stadium',\n",
    "                 'Punjab Cricket Association Stadium, Mohali', 'Feroz Shah Kotla',\n",
    "                 'Wankhede Stadium', 'Sawai Mansingh Stadium',\n",
    "                 'MA Chidambaram Stadium, Chepauk', 'Eden Gardens',\n",
    "                 'Dr DY Patil Sports Academy', 'Brabourne Stadium',\n",
    "                 'Sardar Patel Stadium, Motera',\n",
    "                 'Himachal Pradesh Cricket Association Stadium',\n",
    "                 'Maharashtra Cricket Association Stadium',\n",
    "                 'Rajiv Gandhi International Stadium, Uppal',\n",
    "                 'Shaheed Veer Narayan Singh International Stadium',\n",
    "                 'JSCA International Stadium Complex', 'Barabati Stadium', 'Dr. Y.S. Rajasekhara Reddy ACA-VDCA Cricket Stadium',\n",
    "                 'Holkar Cricket Stadium']\n"
   ]
  },
  {
   "cell_type": "code",
   "execution_count": 85,
   "metadata": {},
   "outputs": [
    {
     "data": {
      "text/plain": [
       "18"
      ]
     },
     "execution_count": 85,
     "metadata": {},
     "output_type": "execute_result"
    }
   ],
   "source": [
    "df = df[df.venue.isin(indian_venues)]\n",
    "df.venue.nunique()\n"
   ]
  },
  {
   "attachments": {},
   "cell_type": "markdown",
   "metadata": {},
   "source": [
    "## Regression Model"
   ]
  },
  {
   "attachments": {},
   "cell_type": "markdown",
   "metadata": {},
   "source": [
    "#### OneHotEncoding categorical columns"
   ]
  },
  {
   "cell_type": "code",
   "execution_count": 87,
   "metadata": {},
   "outputs": [],
   "source": [
    "pd.set_option('display.max_columns', None)\n"
   ]
  },
  {
   "cell_type": "code",
   "execution_count": 86,
   "metadata": {},
   "outputs": [],
   "source": [
    "from sklearn.preprocessing import OneHotEncoder\n"
   ]
  },
  {
   "cell_type": "code",
   "execution_count": 88,
   "metadata": {},
   "outputs": [
    {
     "data": {
      "text/html": [
       "<div>\n",
       "<style scoped>\n",
       "    .dataframe tbody tr th:only-of-type {\n",
       "        vertical-align: middle;\n",
       "    }\n",
       "\n",
       "    .dataframe tbody tr th {\n",
       "        vertical-align: top;\n",
       "    }\n",
       "\n",
       "    .dataframe thead th {\n",
       "        text-align: right;\n",
       "    }\n",
       "</style>\n",
       "<table border=\"1\" class=\"dataframe\">\n",
       "  <thead>\n",
       "    <tr style=\"text-align: right;\">\n",
       "      <th></th>\n",
       "      <th>Brabourne Stadium</th>\n",
       "      <th>Dr DY Patil Sports Academy</th>\n",
       "      <th>Dr. Y.S. Rajasekhara Reddy ACA-VDCA Cricket Stadium</th>\n",
       "      <th>Eden Gardens</th>\n",
       "      <th>Feroz Shah Kotla</th>\n",
       "      <th>Himachal Pradesh Cricket Association Stadium</th>\n",
       "      <th>Holkar Cricket Stadium</th>\n",
       "      <th>JSCA International Stadium Complex</th>\n",
       "      <th>M.Chinnaswamy Stadium</th>\n",
       "      <th>MA Chidambaram Stadium, Chepauk</th>\n",
       "      <th>Maharashtra Cricket Association Stadium</th>\n",
       "      <th>Punjab Cricket Association Stadium, Mohali</th>\n",
       "      <th>Rajiv Gandhi International Stadium, Uppal</th>\n",
       "      <th>Sardar Patel Stadium, Motera</th>\n",
       "      <th>Sawai Mansingh Stadium</th>\n",
       "      <th>Shaheed Veer Narayan Singh International Stadium</th>\n",
       "      <th>Wankhede Stadium</th>\n",
       "    </tr>\n",
       "  </thead>\n",
       "  <tbody>\n",
       "    <tr>\n",
       "      <th>0</th>\n",
       "      <td>0.0</td>\n",
       "      <td>0.0</td>\n",
       "      <td>0.0</td>\n",
       "      <td>0.0</td>\n",
       "      <td>0.0</td>\n",
       "      <td>0.0</td>\n",
       "      <td>0.0</td>\n",
       "      <td>0.0</td>\n",
       "      <td>1.0</td>\n",
       "      <td>0.0</td>\n",
       "      <td>0.0</td>\n",
       "      <td>0.0</td>\n",
       "      <td>0.0</td>\n",
       "      <td>0.0</td>\n",
       "      <td>0.0</td>\n",
       "      <td>0.0</td>\n",
       "      <td>0.0</td>\n",
       "    </tr>\n",
       "    <tr>\n",
       "      <th>1</th>\n",
       "      <td>0.0</td>\n",
       "      <td>0.0</td>\n",
       "      <td>0.0</td>\n",
       "      <td>0.0</td>\n",
       "      <td>0.0</td>\n",
       "      <td>0.0</td>\n",
       "      <td>0.0</td>\n",
       "      <td>0.0</td>\n",
       "      <td>1.0</td>\n",
       "      <td>0.0</td>\n",
       "      <td>0.0</td>\n",
       "      <td>0.0</td>\n",
       "      <td>0.0</td>\n",
       "      <td>0.0</td>\n",
       "      <td>0.0</td>\n",
       "      <td>0.0</td>\n",
       "      <td>0.0</td>\n",
       "    </tr>\n",
       "    <tr>\n",
       "      <th>2</th>\n",
       "      <td>0.0</td>\n",
       "      <td>0.0</td>\n",
       "      <td>0.0</td>\n",
       "      <td>0.0</td>\n",
       "      <td>0.0</td>\n",
       "      <td>0.0</td>\n",
       "      <td>0.0</td>\n",
       "      <td>0.0</td>\n",
       "      <td>1.0</td>\n",
       "      <td>0.0</td>\n",
       "      <td>0.0</td>\n",
       "      <td>0.0</td>\n",
       "      <td>0.0</td>\n",
       "      <td>0.0</td>\n",
       "      <td>0.0</td>\n",
       "      <td>0.0</td>\n",
       "      <td>0.0</td>\n",
       "    </tr>\n",
       "    <tr>\n",
       "      <th>3</th>\n",
       "      <td>0.0</td>\n",
       "      <td>0.0</td>\n",
       "      <td>0.0</td>\n",
       "      <td>0.0</td>\n",
       "      <td>0.0</td>\n",
       "      <td>0.0</td>\n",
       "      <td>0.0</td>\n",
       "      <td>0.0</td>\n",
       "      <td>1.0</td>\n",
       "      <td>0.0</td>\n",
       "      <td>0.0</td>\n",
       "      <td>0.0</td>\n",
       "      <td>0.0</td>\n",
       "      <td>0.0</td>\n",
       "      <td>0.0</td>\n",
       "      <td>0.0</td>\n",
       "      <td>0.0</td>\n",
       "    </tr>\n",
       "    <tr>\n",
       "      <th>4</th>\n",
       "      <td>0.0</td>\n",
       "      <td>0.0</td>\n",
       "      <td>0.0</td>\n",
       "      <td>0.0</td>\n",
       "      <td>0.0</td>\n",
       "      <td>0.0</td>\n",
       "      <td>0.0</td>\n",
       "      <td>0.0</td>\n",
       "      <td>1.0</td>\n",
       "      <td>0.0</td>\n",
       "      <td>0.0</td>\n",
       "      <td>0.0</td>\n",
       "      <td>0.0</td>\n",
       "      <td>0.0</td>\n",
       "      <td>0.0</td>\n",
       "      <td>0.0</td>\n",
       "      <td>0.0</td>\n",
       "    </tr>\n",
       "    <tr>\n",
       "      <th>...</th>\n",
       "      <td>...</td>\n",
       "      <td>...</td>\n",
       "      <td>...</td>\n",
       "      <td>...</td>\n",
       "      <td>...</td>\n",
       "      <td>...</td>\n",
       "      <td>...</td>\n",
       "      <td>...</td>\n",
       "      <td>...</td>\n",
       "      <td>...</td>\n",
       "      <td>...</td>\n",
       "      <td>...</td>\n",
       "      <td>...</td>\n",
       "      <td>...</td>\n",
       "      <td>...</td>\n",
       "      <td>...</td>\n",
       "      <td>...</td>\n",
       "    </tr>\n",
       "    <tr>\n",
       "      <th>47800</th>\n",
       "      <td>0.0</td>\n",
       "      <td>0.0</td>\n",
       "      <td>0.0</td>\n",
       "      <td>0.0</td>\n",
       "      <td>0.0</td>\n",
       "      <td>0.0</td>\n",
       "      <td>0.0</td>\n",
       "      <td>0.0</td>\n",
       "      <td>0.0</td>\n",
       "      <td>0.0</td>\n",
       "      <td>0.0</td>\n",
       "      <td>0.0</td>\n",
       "      <td>1.0</td>\n",
       "      <td>0.0</td>\n",
       "      <td>0.0</td>\n",
       "      <td>0.0</td>\n",
       "      <td>0.0</td>\n",
       "    </tr>\n",
       "    <tr>\n",
       "      <th>47801</th>\n",
       "      <td>0.0</td>\n",
       "      <td>0.0</td>\n",
       "      <td>0.0</td>\n",
       "      <td>0.0</td>\n",
       "      <td>0.0</td>\n",
       "      <td>0.0</td>\n",
       "      <td>0.0</td>\n",
       "      <td>0.0</td>\n",
       "      <td>0.0</td>\n",
       "      <td>0.0</td>\n",
       "      <td>0.0</td>\n",
       "      <td>0.0</td>\n",
       "      <td>1.0</td>\n",
       "      <td>0.0</td>\n",
       "      <td>0.0</td>\n",
       "      <td>0.0</td>\n",
       "      <td>0.0</td>\n",
       "    </tr>\n",
       "    <tr>\n",
       "      <th>47802</th>\n",
       "      <td>0.0</td>\n",
       "      <td>0.0</td>\n",
       "      <td>0.0</td>\n",
       "      <td>0.0</td>\n",
       "      <td>0.0</td>\n",
       "      <td>0.0</td>\n",
       "      <td>0.0</td>\n",
       "      <td>0.0</td>\n",
       "      <td>0.0</td>\n",
       "      <td>0.0</td>\n",
       "      <td>0.0</td>\n",
       "      <td>0.0</td>\n",
       "      <td>1.0</td>\n",
       "      <td>0.0</td>\n",
       "      <td>0.0</td>\n",
       "      <td>0.0</td>\n",
       "      <td>0.0</td>\n",
       "    </tr>\n",
       "    <tr>\n",
       "      <th>47803</th>\n",
       "      <td>0.0</td>\n",
       "      <td>0.0</td>\n",
       "      <td>0.0</td>\n",
       "      <td>0.0</td>\n",
       "      <td>0.0</td>\n",
       "      <td>0.0</td>\n",
       "      <td>0.0</td>\n",
       "      <td>0.0</td>\n",
       "      <td>0.0</td>\n",
       "      <td>0.0</td>\n",
       "      <td>0.0</td>\n",
       "      <td>0.0</td>\n",
       "      <td>1.0</td>\n",
       "      <td>0.0</td>\n",
       "      <td>0.0</td>\n",
       "      <td>0.0</td>\n",
       "      <td>0.0</td>\n",
       "    </tr>\n",
       "    <tr>\n",
       "      <th>47804</th>\n",
       "      <td>0.0</td>\n",
       "      <td>0.0</td>\n",
       "      <td>0.0</td>\n",
       "      <td>0.0</td>\n",
       "      <td>0.0</td>\n",
       "      <td>0.0</td>\n",
       "      <td>0.0</td>\n",
       "      <td>0.0</td>\n",
       "      <td>0.0</td>\n",
       "      <td>0.0</td>\n",
       "      <td>0.0</td>\n",
       "      <td>0.0</td>\n",
       "      <td>1.0</td>\n",
       "      <td>0.0</td>\n",
       "      <td>0.0</td>\n",
       "      <td>0.0</td>\n",
       "      <td>0.0</td>\n",
       "    </tr>\n",
       "  </tbody>\n",
       "</table>\n",
       "<p>47805 rows × 17 columns</p>\n",
       "</div>"
      ],
      "text/plain": [
       "       Brabourne Stadium  Dr DY Patil Sports Academy  \\\n",
       "0                    0.0                         0.0   \n",
       "1                    0.0                         0.0   \n",
       "2                    0.0                         0.0   \n",
       "3                    0.0                         0.0   \n",
       "4                    0.0                         0.0   \n",
       "...                  ...                         ...   \n",
       "47800                0.0                         0.0   \n",
       "47801                0.0                         0.0   \n",
       "47802                0.0                         0.0   \n",
       "47803                0.0                         0.0   \n",
       "47804                0.0                         0.0   \n",
       "\n",
       "       Dr. Y.S. Rajasekhara Reddy ACA-VDCA Cricket Stadium  Eden Gardens  \\\n",
       "0                                                    0.0             0.0   \n",
       "1                                                    0.0             0.0   \n",
       "2                                                    0.0             0.0   \n",
       "3                                                    0.0             0.0   \n",
       "4                                                    0.0             0.0   \n",
       "...                                                  ...             ...   \n",
       "47800                                                0.0             0.0   \n",
       "47801                                                0.0             0.0   \n",
       "47802                                                0.0             0.0   \n",
       "47803                                                0.0             0.0   \n",
       "47804                                                0.0             0.0   \n",
       "\n",
       "       Feroz Shah Kotla  Himachal Pradesh Cricket Association Stadium  \\\n",
       "0                   0.0                                           0.0   \n",
       "1                   0.0                                           0.0   \n",
       "2                   0.0                                           0.0   \n",
       "3                   0.0                                           0.0   \n",
       "4                   0.0                                           0.0   \n",
       "...                 ...                                           ...   \n",
       "47800               0.0                                           0.0   \n",
       "47801               0.0                                           0.0   \n",
       "47802               0.0                                           0.0   \n",
       "47803               0.0                                           0.0   \n",
       "47804               0.0                                           0.0   \n",
       "\n",
       "       Holkar Cricket Stadium  JSCA International Stadium Complex  \\\n",
       "0                         0.0                                 0.0   \n",
       "1                         0.0                                 0.0   \n",
       "2                         0.0                                 0.0   \n",
       "3                         0.0                                 0.0   \n",
       "4                         0.0                                 0.0   \n",
       "...                       ...                                 ...   \n",
       "47800                     0.0                                 0.0   \n",
       "47801                     0.0                                 0.0   \n",
       "47802                     0.0                                 0.0   \n",
       "47803                     0.0                                 0.0   \n",
       "47804                     0.0                                 0.0   \n",
       "\n",
       "       M.Chinnaswamy Stadium  MA Chidambaram Stadium, Chepauk  \\\n",
       "0                        1.0                              0.0   \n",
       "1                        1.0                              0.0   \n",
       "2                        1.0                              0.0   \n",
       "3                        1.0                              0.0   \n",
       "4                        1.0                              0.0   \n",
       "...                      ...                              ...   \n",
       "47800                    0.0                              0.0   \n",
       "47801                    0.0                              0.0   \n",
       "47802                    0.0                              0.0   \n",
       "47803                    0.0                              0.0   \n",
       "47804                    0.0                              0.0   \n",
       "\n",
       "       Maharashtra Cricket Association Stadium  \\\n",
       "0                                          0.0   \n",
       "1                                          0.0   \n",
       "2                                          0.0   \n",
       "3                                          0.0   \n",
       "4                                          0.0   \n",
       "...                                        ...   \n",
       "47800                                      0.0   \n",
       "47801                                      0.0   \n",
       "47802                                      0.0   \n",
       "47803                                      0.0   \n",
       "47804                                      0.0   \n",
       "\n",
       "       Punjab Cricket Association Stadium, Mohali  \\\n",
       "0                                             0.0   \n",
       "1                                             0.0   \n",
       "2                                             0.0   \n",
       "3                                             0.0   \n",
       "4                                             0.0   \n",
       "...                                           ...   \n",
       "47800                                         0.0   \n",
       "47801                                         0.0   \n",
       "47802                                         0.0   \n",
       "47803                                         0.0   \n",
       "47804                                         0.0   \n",
       "\n",
       "       Rajiv Gandhi International Stadium, Uppal  \\\n",
       "0                                            0.0   \n",
       "1                                            0.0   \n",
       "2                                            0.0   \n",
       "3                                            0.0   \n",
       "4                                            0.0   \n",
       "...                                          ...   \n",
       "47800                                        1.0   \n",
       "47801                                        1.0   \n",
       "47802                                        1.0   \n",
       "47803                                        1.0   \n",
       "47804                                        1.0   \n",
       "\n",
       "       Sardar Patel Stadium, Motera  Sawai Mansingh Stadium  \\\n",
       "0                               0.0                     0.0   \n",
       "1                               0.0                     0.0   \n",
       "2                               0.0                     0.0   \n",
       "3                               0.0                     0.0   \n",
       "4                               0.0                     0.0   \n",
       "...                             ...                     ...   \n",
       "47800                           0.0                     0.0   \n",
       "47801                           0.0                     0.0   \n",
       "47802                           0.0                     0.0   \n",
       "47803                           0.0                     0.0   \n",
       "47804                           0.0                     0.0   \n",
       "\n",
       "       Shaheed Veer Narayan Singh International Stadium  Wankhede Stadium  \n",
       "0                                                   0.0               0.0  \n",
       "1                                                   0.0               0.0  \n",
       "2                                                   0.0               0.0  \n",
       "3                                                   0.0               0.0  \n",
       "4                                                   0.0               0.0  \n",
       "...                                                 ...               ...  \n",
       "47800                                               0.0               0.0  \n",
       "47801                                               0.0               0.0  \n",
       "47802                                               0.0               0.0  \n",
       "47803                                               0.0               0.0  \n",
       "47804                                               0.0               0.0  \n",
       "\n",
       "[47805 rows x 17 columns]"
      ]
     },
     "execution_count": 88,
     "metadata": {},
     "output_type": "execute_result"
    }
   ],
   "source": [
    "ohe_venue = OneHotEncoder(drop='first')\n",
    "encoded_venue = ohe_venue.fit_transform(df[['venue']].to_numpy()).toarray()\n",
    "encoded_venue = pd.DataFrame(\n",
    "    data=encoded_venue, columns=ohe_venue.categories_[0][1:])\n",
    "encoded_venue\n"
   ]
  },
  {
   "cell_type": "code",
   "execution_count": 89,
   "metadata": {},
   "outputs": [
    {
     "data": {
      "text/plain": [
       "array([[0., 0., 0., 0., 0., 0., 0., 0., 0., 0., 0., 0., 0., 1., 0., 0.,\n",
       "        0.]])"
      ]
     },
     "execution_count": 89,
     "metadata": {},
     "output_type": "execute_result"
    }
   ],
   "source": [
    "ohe_venue.transform([['Sardar Patel Stadium, Motera']]).toarray()\n"
   ]
  },
  {
   "cell_type": "code",
   "execution_count": 90,
   "metadata": {},
   "outputs": [
    {
     "data": {
      "text/html": [
       "<div>\n",
       "<style scoped>\n",
       "    .dataframe tbody tr th:only-of-type {\n",
       "        vertical-align: middle;\n",
       "    }\n",
       "\n",
       "    .dataframe tbody tr th {\n",
       "        vertical-align: top;\n",
       "    }\n",
       "\n",
       "    .dataframe thead th {\n",
       "        text-align: right;\n",
       "    }\n",
       "</style>\n",
       "<table border=\"1\" class=\"dataframe\">\n",
       "  <thead>\n",
       "    <tr style=\"text-align: right;\">\n",
       "      <th></th>\n",
       "      <th>bat_Delhi Capitals</th>\n",
       "      <th>bat_Gujarat Titans</th>\n",
       "      <th>bat_Kings XI Punjab</th>\n",
       "      <th>bat_Kolkata Knight Riders</th>\n",
       "      <th>bat_Mumbai Indians</th>\n",
       "      <th>bat_Rajasthan Royals</th>\n",
       "      <th>bat_Royal Challengers Bangalore</th>\n",
       "      <th>bat_Sunrisers Hyderabad</th>\n",
       "    </tr>\n",
       "  </thead>\n",
       "  <tbody>\n",
       "    <tr>\n",
       "      <th>0</th>\n",
       "      <td>0.0</td>\n",
       "      <td>0.0</td>\n",
       "      <td>0.0</td>\n",
       "      <td>1.0</td>\n",
       "      <td>0.0</td>\n",
       "      <td>0.0</td>\n",
       "      <td>0.0</td>\n",
       "      <td>0.0</td>\n",
       "    </tr>\n",
       "    <tr>\n",
       "      <th>1</th>\n",
       "      <td>0.0</td>\n",
       "      <td>0.0</td>\n",
       "      <td>0.0</td>\n",
       "      <td>1.0</td>\n",
       "      <td>0.0</td>\n",
       "      <td>0.0</td>\n",
       "      <td>0.0</td>\n",
       "      <td>0.0</td>\n",
       "    </tr>\n",
       "    <tr>\n",
       "      <th>2</th>\n",
       "      <td>0.0</td>\n",
       "      <td>0.0</td>\n",
       "      <td>0.0</td>\n",
       "      <td>1.0</td>\n",
       "      <td>0.0</td>\n",
       "      <td>0.0</td>\n",
       "      <td>0.0</td>\n",
       "      <td>0.0</td>\n",
       "    </tr>\n",
       "    <tr>\n",
       "      <th>3</th>\n",
       "      <td>0.0</td>\n",
       "      <td>0.0</td>\n",
       "      <td>0.0</td>\n",
       "      <td>1.0</td>\n",
       "      <td>0.0</td>\n",
       "      <td>0.0</td>\n",
       "      <td>0.0</td>\n",
       "      <td>0.0</td>\n",
       "    </tr>\n",
       "    <tr>\n",
       "      <th>4</th>\n",
       "      <td>0.0</td>\n",
       "      <td>0.0</td>\n",
       "      <td>0.0</td>\n",
       "      <td>1.0</td>\n",
       "      <td>0.0</td>\n",
       "      <td>0.0</td>\n",
       "      <td>0.0</td>\n",
       "      <td>0.0</td>\n",
       "    </tr>\n",
       "    <tr>\n",
       "      <th>...</th>\n",
       "      <td>...</td>\n",
       "      <td>...</td>\n",
       "      <td>...</td>\n",
       "      <td>...</td>\n",
       "      <td>...</td>\n",
       "      <td>...</td>\n",
       "      <td>...</td>\n",
       "      <td>...</td>\n",
       "    </tr>\n",
       "    <tr>\n",
       "      <th>47800</th>\n",
       "      <td>0.0</td>\n",
       "      <td>0.0</td>\n",
       "      <td>0.0</td>\n",
       "      <td>0.0</td>\n",
       "      <td>1.0</td>\n",
       "      <td>0.0</td>\n",
       "      <td>0.0</td>\n",
       "      <td>0.0</td>\n",
       "    </tr>\n",
       "    <tr>\n",
       "      <th>47801</th>\n",
       "      <td>0.0</td>\n",
       "      <td>0.0</td>\n",
       "      <td>0.0</td>\n",
       "      <td>0.0</td>\n",
       "      <td>1.0</td>\n",
       "      <td>0.0</td>\n",
       "      <td>0.0</td>\n",
       "      <td>0.0</td>\n",
       "    </tr>\n",
       "    <tr>\n",
       "      <th>47802</th>\n",
       "      <td>0.0</td>\n",
       "      <td>0.0</td>\n",
       "      <td>0.0</td>\n",
       "      <td>0.0</td>\n",
       "      <td>1.0</td>\n",
       "      <td>0.0</td>\n",
       "      <td>0.0</td>\n",
       "      <td>0.0</td>\n",
       "    </tr>\n",
       "    <tr>\n",
       "      <th>47803</th>\n",
       "      <td>0.0</td>\n",
       "      <td>0.0</td>\n",
       "      <td>0.0</td>\n",
       "      <td>0.0</td>\n",
       "      <td>1.0</td>\n",
       "      <td>0.0</td>\n",
       "      <td>0.0</td>\n",
       "      <td>0.0</td>\n",
       "    </tr>\n",
       "    <tr>\n",
       "      <th>47804</th>\n",
       "      <td>0.0</td>\n",
       "      <td>0.0</td>\n",
       "      <td>0.0</td>\n",
       "      <td>0.0</td>\n",
       "      <td>1.0</td>\n",
       "      <td>0.0</td>\n",
       "      <td>0.0</td>\n",
       "      <td>0.0</td>\n",
       "    </tr>\n",
       "  </tbody>\n",
       "</table>\n",
       "<p>47805 rows × 8 columns</p>\n",
       "</div>"
      ],
      "text/plain": [
       "       bat_Delhi Capitals  bat_Gujarat Titans  bat_Kings XI Punjab  \\\n",
       "0                     0.0                 0.0                  0.0   \n",
       "1                     0.0                 0.0                  0.0   \n",
       "2                     0.0                 0.0                  0.0   \n",
       "3                     0.0                 0.0                  0.0   \n",
       "4                     0.0                 0.0                  0.0   \n",
       "...                   ...                 ...                  ...   \n",
       "47800                 0.0                 0.0                  0.0   \n",
       "47801                 0.0                 0.0                  0.0   \n",
       "47802                 0.0                 0.0                  0.0   \n",
       "47803                 0.0                 0.0                  0.0   \n",
       "47804                 0.0                 0.0                  0.0   \n",
       "\n",
       "       bat_Kolkata Knight Riders  bat_Mumbai Indians  bat_Rajasthan Royals  \\\n",
       "0                            1.0                 0.0                   0.0   \n",
       "1                            1.0                 0.0                   0.0   \n",
       "2                            1.0                 0.0                   0.0   \n",
       "3                            1.0                 0.0                   0.0   \n",
       "4                            1.0                 0.0                   0.0   \n",
       "...                          ...                 ...                   ...   \n",
       "47800                        0.0                 1.0                   0.0   \n",
       "47801                        0.0                 1.0                   0.0   \n",
       "47802                        0.0                 1.0                   0.0   \n",
       "47803                        0.0                 1.0                   0.0   \n",
       "47804                        0.0                 1.0                   0.0   \n",
       "\n",
       "       bat_Royal Challengers Bangalore  bat_Sunrisers Hyderabad  \n",
       "0                                  0.0                      0.0  \n",
       "1                                  0.0                      0.0  \n",
       "2                                  0.0                      0.0  \n",
       "3                                  0.0                      0.0  \n",
       "4                                  0.0                      0.0  \n",
       "...                                ...                      ...  \n",
       "47800                              0.0                      0.0  \n",
       "47801                              0.0                      0.0  \n",
       "47802                              0.0                      0.0  \n",
       "47803                              0.0                      0.0  \n",
       "47804                              0.0                      0.0  \n",
       "\n",
       "[47805 rows x 8 columns]"
      ]
     },
     "execution_count": 90,
     "metadata": {},
     "output_type": "execute_result"
    }
   ],
   "source": [
    "ohe_bat_team = OneHotEncoder(drop='first')\n",
    "\n",
    "encoded_bat_team = ohe_bat_team.fit_transform(\n",
    "    df[['batting_team']].to_numpy()).toarray()\n",
    "\n",
    "encoded_bat_team = pd.DataFrame(data=encoded_bat_team, columns=[\n",
    "                                'bat_'+team for team in ohe_bat_team.categories_[0][1:]])\n",
    "encoded_bat_team\n"
   ]
  },
  {
   "cell_type": "code",
   "execution_count": 91,
   "metadata": {},
   "outputs": [
    {
     "data": {
      "text/html": [
       "<div>\n",
       "<style scoped>\n",
       "    .dataframe tbody tr th:only-of-type {\n",
       "        vertical-align: middle;\n",
       "    }\n",
       "\n",
       "    .dataframe tbody tr th {\n",
       "        vertical-align: top;\n",
       "    }\n",
       "\n",
       "    .dataframe thead th {\n",
       "        text-align: right;\n",
       "    }\n",
       "</style>\n",
       "<table border=\"1\" class=\"dataframe\">\n",
       "  <thead>\n",
       "    <tr style=\"text-align: right;\">\n",
       "      <th></th>\n",
       "      <th>bowl_Delhi Capitals</th>\n",
       "      <th>bowl_Gujarat Titans</th>\n",
       "      <th>bowl_Kings XI Punjab</th>\n",
       "      <th>bowl_Kolkata Knight Riders</th>\n",
       "      <th>bowl_Mumbai Indians</th>\n",
       "      <th>bowl_Rajasthan Royals</th>\n",
       "      <th>bowl_Royal Challengers Bangalore</th>\n",
       "      <th>bowl_Sunrisers Hyderabad</th>\n",
       "    </tr>\n",
       "  </thead>\n",
       "  <tbody>\n",
       "    <tr>\n",
       "      <th>0</th>\n",
       "      <td>0.0</td>\n",
       "      <td>0.0</td>\n",
       "      <td>0.0</td>\n",
       "      <td>0.0</td>\n",
       "      <td>0.0</td>\n",
       "      <td>0.0</td>\n",
       "      <td>1.0</td>\n",
       "      <td>0.0</td>\n",
       "    </tr>\n",
       "    <tr>\n",
       "      <th>1</th>\n",
       "      <td>0.0</td>\n",
       "      <td>0.0</td>\n",
       "      <td>0.0</td>\n",
       "      <td>0.0</td>\n",
       "      <td>0.0</td>\n",
       "      <td>0.0</td>\n",
       "      <td>1.0</td>\n",
       "      <td>0.0</td>\n",
       "    </tr>\n",
       "    <tr>\n",
       "      <th>2</th>\n",
       "      <td>0.0</td>\n",
       "      <td>0.0</td>\n",
       "      <td>0.0</td>\n",
       "      <td>0.0</td>\n",
       "      <td>0.0</td>\n",
       "      <td>0.0</td>\n",
       "      <td>1.0</td>\n",
       "      <td>0.0</td>\n",
       "    </tr>\n",
       "    <tr>\n",
       "      <th>3</th>\n",
       "      <td>0.0</td>\n",
       "      <td>0.0</td>\n",
       "      <td>0.0</td>\n",
       "      <td>0.0</td>\n",
       "      <td>0.0</td>\n",
       "      <td>0.0</td>\n",
       "      <td>1.0</td>\n",
       "      <td>0.0</td>\n",
       "    </tr>\n",
       "    <tr>\n",
       "      <th>4</th>\n",
       "      <td>0.0</td>\n",
       "      <td>0.0</td>\n",
       "      <td>0.0</td>\n",
       "      <td>0.0</td>\n",
       "      <td>0.0</td>\n",
       "      <td>0.0</td>\n",
       "      <td>1.0</td>\n",
       "      <td>0.0</td>\n",
       "    </tr>\n",
       "    <tr>\n",
       "      <th>...</th>\n",
       "      <td>...</td>\n",
       "      <td>...</td>\n",
       "      <td>...</td>\n",
       "      <td>...</td>\n",
       "      <td>...</td>\n",
       "      <td>...</td>\n",
       "      <td>...</td>\n",
       "      <td>...</td>\n",
       "    </tr>\n",
       "    <tr>\n",
       "      <th>47800</th>\n",
       "      <td>0.0</td>\n",
       "      <td>0.0</td>\n",
       "      <td>0.0</td>\n",
       "      <td>0.0</td>\n",
       "      <td>0.0</td>\n",
       "      <td>0.0</td>\n",
       "      <td>0.0</td>\n",
       "      <td>0.0</td>\n",
       "    </tr>\n",
       "    <tr>\n",
       "      <th>47801</th>\n",
       "      <td>0.0</td>\n",
       "      <td>0.0</td>\n",
       "      <td>0.0</td>\n",
       "      <td>0.0</td>\n",
       "      <td>0.0</td>\n",
       "      <td>0.0</td>\n",
       "      <td>0.0</td>\n",
       "      <td>0.0</td>\n",
       "    </tr>\n",
       "    <tr>\n",
       "      <th>47802</th>\n",
       "      <td>0.0</td>\n",
       "      <td>0.0</td>\n",
       "      <td>0.0</td>\n",
       "      <td>0.0</td>\n",
       "      <td>0.0</td>\n",
       "      <td>0.0</td>\n",
       "      <td>0.0</td>\n",
       "      <td>0.0</td>\n",
       "    </tr>\n",
       "    <tr>\n",
       "      <th>47803</th>\n",
       "      <td>0.0</td>\n",
       "      <td>0.0</td>\n",
       "      <td>0.0</td>\n",
       "      <td>0.0</td>\n",
       "      <td>0.0</td>\n",
       "      <td>0.0</td>\n",
       "      <td>0.0</td>\n",
       "      <td>0.0</td>\n",
       "    </tr>\n",
       "    <tr>\n",
       "      <th>47804</th>\n",
       "      <td>0.0</td>\n",
       "      <td>0.0</td>\n",
       "      <td>0.0</td>\n",
       "      <td>0.0</td>\n",
       "      <td>0.0</td>\n",
       "      <td>0.0</td>\n",
       "      <td>0.0</td>\n",
       "      <td>0.0</td>\n",
       "    </tr>\n",
       "  </tbody>\n",
       "</table>\n",
       "<p>47805 rows × 8 columns</p>\n",
       "</div>"
      ],
      "text/plain": [
       "       bowl_Delhi Capitals  bowl_Gujarat Titans  bowl_Kings XI Punjab  \\\n",
       "0                      0.0                  0.0                   0.0   \n",
       "1                      0.0                  0.0                   0.0   \n",
       "2                      0.0                  0.0                   0.0   \n",
       "3                      0.0                  0.0                   0.0   \n",
       "4                      0.0                  0.0                   0.0   \n",
       "...                    ...                  ...                   ...   \n",
       "47800                  0.0                  0.0                   0.0   \n",
       "47801                  0.0                  0.0                   0.0   \n",
       "47802                  0.0                  0.0                   0.0   \n",
       "47803                  0.0                  0.0                   0.0   \n",
       "47804                  0.0                  0.0                   0.0   \n",
       "\n",
       "       bowl_Kolkata Knight Riders  bowl_Mumbai Indians  bowl_Rajasthan Royals  \\\n",
       "0                             0.0                  0.0                    0.0   \n",
       "1                             0.0                  0.0                    0.0   \n",
       "2                             0.0                  0.0                    0.0   \n",
       "3                             0.0                  0.0                    0.0   \n",
       "4                             0.0                  0.0                    0.0   \n",
       "...                           ...                  ...                    ...   \n",
       "47800                         0.0                  0.0                    0.0   \n",
       "47801                         0.0                  0.0                    0.0   \n",
       "47802                         0.0                  0.0                    0.0   \n",
       "47803                         0.0                  0.0                    0.0   \n",
       "47804                         0.0                  0.0                    0.0   \n",
       "\n",
       "       bowl_Royal Challengers Bangalore  bowl_Sunrisers Hyderabad  \n",
       "0                                   1.0                       0.0  \n",
       "1                                   1.0                       0.0  \n",
       "2                                   1.0                       0.0  \n",
       "3                                   1.0                       0.0  \n",
       "4                                   1.0                       0.0  \n",
       "...                                 ...                       ...  \n",
       "47800                               0.0                       0.0  \n",
       "47801                               0.0                       0.0  \n",
       "47802                               0.0                       0.0  \n",
       "47803                               0.0                       0.0  \n",
       "47804                               0.0                       0.0  \n",
       "\n",
       "[47805 rows x 8 columns]"
      ]
     },
     "execution_count": 91,
     "metadata": {},
     "output_type": "execute_result"
    }
   ],
   "source": [
    "ohe_bowl_team = OneHotEncoder(drop='first')\n",
    "\n",
    "encoded_bowl_team = ohe_bowl_team.fit_transform(\n",
    "    df[['bowling_team']].to_numpy()).toarray()\n",
    "\n",
    "encoded_bowl_team = pd.DataFrame(data=encoded_bowl_team, columns=[\n",
    "                                 'bowl_'+team for team in ohe_bowl_team.categories_[0][1:]])\n",
    "encoded_bowl_team\n"
   ]
  },
  {
   "cell_type": "code",
   "execution_count": 92,
   "metadata": {},
   "outputs": [
    {
     "data": {
      "text/html": [
       "<div>\n",
       "<style scoped>\n",
       "    .dataframe tbody tr th:only-of-type {\n",
       "        vertical-align: middle;\n",
       "    }\n",
       "\n",
       "    .dataframe tbody tr th {\n",
       "        vertical-align: top;\n",
       "    }\n",
       "\n",
       "    .dataframe thead th {\n",
       "        text-align: right;\n",
       "    }\n",
       "</style>\n",
       "<table border=\"1\" class=\"dataframe\">\n",
       "  <thead>\n",
       "    <tr style=\"text-align: right;\">\n",
       "      <th></th>\n",
       "      <th>id</th>\n",
       "      <th>date</th>\n",
       "      <th>venue</th>\n",
       "      <th>inning</th>\n",
       "      <th>batting_team</th>\n",
       "      <th>bowling_team</th>\n",
       "      <th>over</th>\n",
       "      <th>runs</th>\n",
       "      <th>wickets</th>\n",
       "      <th>last5_runs</th>\n",
       "      <th>last5_wickets</th>\n",
       "      <th>total</th>\n",
       "    </tr>\n",
       "  </thead>\n",
       "  <tbody>\n",
       "    <tr>\n",
       "      <th>32</th>\n",
       "      <td>335982</td>\n",
       "      <td>2008-04-18</td>\n",
       "      <td>M.Chinnaswamy Stadium</td>\n",
       "      <td>1</td>\n",
       "      <td>Kolkata Knight Riders</td>\n",
       "      <td>Royal Challengers Bangalore</td>\n",
       "      <td>5</td>\n",
       "      <td>61</td>\n",
       "      <td>0</td>\n",
       "      <td>59</td>\n",
       "      <td>0</td>\n",
       "      <td>222</td>\n",
       "    </tr>\n",
       "    <tr>\n",
       "      <th>33</th>\n",
       "      <td>335982</td>\n",
       "      <td>2008-04-18</td>\n",
       "      <td>M.Chinnaswamy Stadium</td>\n",
       "      <td>1</td>\n",
       "      <td>Kolkata Knight Riders</td>\n",
       "      <td>Royal Challengers Bangalore</td>\n",
       "      <td>5</td>\n",
       "      <td>61</td>\n",
       "      <td>1</td>\n",
       "      <td>59</td>\n",
       "      <td>1</td>\n",
       "      <td>222</td>\n",
       "    </tr>\n",
       "    <tr>\n",
       "      <th>34</th>\n",
       "      <td>335982</td>\n",
       "      <td>2008-04-18</td>\n",
       "      <td>M.Chinnaswamy Stadium</td>\n",
       "      <td>1</td>\n",
       "      <td>Kolkata Knight Riders</td>\n",
       "      <td>Royal Challengers Bangalore</td>\n",
       "      <td>5</td>\n",
       "      <td>61</td>\n",
       "      <td>1</td>\n",
       "      <td>59</td>\n",
       "      <td>1</td>\n",
       "      <td>222</td>\n",
       "    </tr>\n",
       "    <tr>\n",
       "      <th>35</th>\n",
       "      <td>335982</td>\n",
       "      <td>2008-04-18</td>\n",
       "      <td>M.Chinnaswamy Stadium</td>\n",
       "      <td>1</td>\n",
       "      <td>Kolkata Knight Riders</td>\n",
       "      <td>Royal Challengers Bangalore</td>\n",
       "      <td>5</td>\n",
       "      <td>61</td>\n",
       "      <td>1</td>\n",
       "      <td>59</td>\n",
       "      <td>1</td>\n",
       "      <td>222</td>\n",
       "    </tr>\n",
       "    <tr>\n",
       "      <th>36</th>\n",
       "      <td>335982</td>\n",
       "      <td>2008-04-18</td>\n",
       "      <td>M.Chinnaswamy Stadium</td>\n",
       "      <td>1</td>\n",
       "      <td>Kolkata Knight Riders</td>\n",
       "      <td>Royal Challengers Bangalore</td>\n",
       "      <td>5</td>\n",
       "      <td>61</td>\n",
       "      <td>1</td>\n",
       "      <td>58</td>\n",
       "      <td>1</td>\n",
       "      <td>222</td>\n",
       "    </tr>\n",
       "  </tbody>\n",
       "</table>\n",
       "</div>"
      ],
      "text/plain": [
       "        id       date                  venue  inning           batting_team  \\\n",
       "32  335982 2008-04-18  M.Chinnaswamy Stadium       1  Kolkata Knight Riders   \n",
       "33  335982 2008-04-18  M.Chinnaswamy Stadium       1  Kolkata Knight Riders   \n",
       "34  335982 2008-04-18  M.Chinnaswamy Stadium       1  Kolkata Knight Riders   \n",
       "35  335982 2008-04-18  M.Chinnaswamy Stadium       1  Kolkata Knight Riders   \n",
       "36  335982 2008-04-18  M.Chinnaswamy Stadium       1  Kolkata Knight Riders   \n",
       "\n",
       "                   bowling_team  over  runs  wickets  last5_runs  \\\n",
       "32  Royal Challengers Bangalore     5    61        0          59   \n",
       "33  Royal Challengers Bangalore     5    61        1          59   \n",
       "34  Royal Challengers Bangalore     5    61        1          59   \n",
       "35  Royal Challengers Bangalore     5    61        1          59   \n",
       "36  Royal Challengers Bangalore     5    61        1          58   \n",
       "\n",
       "    last5_wickets  total  \n",
       "32              0    222  \n",
       "33              1    222  \n",
       "34              1    222  \n",
       "35              1    222  \n",
       "36              1    222  "
      ]
     },
     "execution_count": 92,
     "metadata": {},
     "output_type": "execute_result"
    }
   ],
   "source": [
    "df.head()\n"
   ]
  },
  {
   "cell_type": "code",
   "execution_count": 93,
   "metadata": {},
   "outputs": [],
   "source": [
    "encoded_df = pd.concat([df.reset_index(drop=True), encoded_venue.reset_index(drop=True),\n",
    "                        encoded_bat_team.reset_index(drop=True), encoded_bowl_team.reset_index(drop=True)], axis=1)\n"
   ]
  },
  {
   "cell_type": "code",
   "execution_count": 94,
   "metadata": {},
   "outputs": [
    {
     "name": "stdout",
     "output_type": "stream",
     "text": [
      "<class 'pandas.core.frame.DataFrame'>\n",
      "RangeIndex: 47805 entries, 0 to 47804\n",
      "Data columns (total 45 columns):\n",
      " #   Column                                               Non-Null Count  Dtype         \n",
      "---  ------                                               --------------  -----         \n",
      " 0   id                                                   47805 non-null  int64         \n",
      " 1   date                                                 47805 non-null  datetime64[ns]\n",
      " 2   venue                                                47805 non-null  object        \n",
      " 3   inning                                               47805 non-null  int64         \n",
      " 4   batting_team                                         47805 non-null  object        \n",
      " 5   bowling_team                                         47805 non-null  object        \n",
      " 6   over                                                 47805 non-null  int64         \n",
      " 7   runs                                                 47805 non-null  int64         \n",
      " 8   wickets                                              47805 non-null  int64         \n",
      " 9   last5_runs                                           47805 non-null  int64         \n",
      " 10  last5_wickets                                        47805 non-null  int64         \n",
      " 11  total                                                47805 non-null  int64         \n",
      " 12  Brabourne Stadium                                    47805 non-null  float64       \n",
      " 13  Dr DY Patil Sports Academy                           47805 non-null  float64       \n",
      " 14  Dr. Y.S. Rajasekhara Reddy ACA-VDCA Cricket Stadium  47805 non-null  float64       \n",
      " 15  Eden Gardens                                         47805 non-null  float64       \n",
      " 16  Feroz Shah Kotla                                     47805 non-null  float64       \n",
      " 17  Himachal Pradesh Cricket Association Stadium         47805 non-null  float64       \n",
      " 18  Holkar Cricket Stadium                               47805 non-null  float64       \n",
      " 19  JSCA International Stadium Complex                   47805 non-null  float64       \n",
      " 20  M.Chinnaswamy Stadium                                47805 non-null  float64       \n",
      " 21  MA Chidambaram Stadium, Chepauk                      47805 non-null  float64       \n",
      " 22  Maharashtra Cricket Association Stadium              47805 non-null  float64       \n",
      " 23  Punjab Cricket Association Stadium, Mohali           47805 non-null  float64       \n",
      " 24  Rajiv Gandhi International Stadium, Uppal            47805 non-null  float64       \n",
      " 25  Sardar Patel Stadium, Motera                         47805 non-null  float64       \n",
      " 26  Sawai Mansingh Stadium                               47805 non-null  float64       \n",
      " 27  Shaheed Veer Narayan Singh International Stadium     47805 non-null  float64       \n",
      " 28  Wankhede Stadium                                     47805 non-null  float64       \n",
      " 29  bat_Delhi Capitals                                   47805 non-null  float64       \n",
      " 30  bat_Gujarat Titans                                   47805 non-null  float64       \n",
      " 31  bat_Kings XI Punjab                                  47805 non-null  float64       \n",
      " 32  bat_Kolkata Knight Riders                            47805 non-null  float64       \n",
      " 33  bat_Mumbai Indians                                   47805 non-null  float64       \n",
      " 34  bat_Rajasthan Royals                                 47805 non-null  float64       \n",
      " 35  bat_Royal Challengers Bangalore                      47805 non-null  float64       \n",
      " 36  bat_Sunrisers Hyderabad                              47805 non-null  float64       \n",
      " 37  bowl_Delhi Capitals                                  47805 non-null  float64       \n",
      " 38  bowl_Gujarat Titans                                  47805 non-null  float64       \n",
      " 39  bowl_Kings XI Punjab                                 47805 non-null  float64       \n",
      " 40  bowl_Kolkata Knight Riders                           47805 non-null  float64       \n",
      " 41  bowl_Mumbai Indians                                  47805 non-null  float64       \n",
      " 42  bowl_Rajasthan Royals                                47805 non-null  float64       \n",
      " 43  bowl_Royal Challengers Bangalore                     47805 non-null  float64       \n",
      " 44  bowl_Sunrisers Hyderabad                             47805 non-null  float64       \n",
      "dtypes: datetime64[ns](1), float64(33), int64(8), object(3)\n",
      "memory usage: 16.4+ MB\n"
     ]
    }
   ],
   "source": [
    "encoded_df.info()\n"
   ]
  },
  {
   "cell_type": "code",
   "execution_count": 95,
   "metadata": {},
   "outputs": [
    {
     "data": {
      "text/plain": [
       "Index(['id', 'date', 'venue', 'inning', 'batting_team', 'bowling_team', 'over',\n",
       "       'runs', 'wickets', 'last5_runs', 'last5_wickets', 'total',\n",
       "       'Brabourne Stadium', 'Dr DY Patil Sports Academy',\n",
       "       'Dr. Y.S. Rajasekhara Reddy ACA-VDCA Cricket Stadium', 'Eden Gardens',\n",
       "       'Feroz Shah Kotla', 'Himachal Pradesh Cricket Association Stadium',\n",
       "       'Holkar Cricket Stadium', 'JSCA International Stadium Complex',\n",
       "       'M.Chinnaswamy Stadium', 'MA Chidambaram Stadium, Chepauk',\n",
       "       'Maharashtra Cricket Association Stadium',\n",
       "       'Punjab Cricket Association Stadium, Mohali',\n",
       "       'Rajiv Gandhi International Stadium, Uppal',\n",
       "       'Sardar Patel Stadium, Motera', 'Sawai Mansingh Stadium',\n",
       "       'Shaheed Veer Narayan Singh International Stadium', 'Wankhede Stadium',\n",
       "       'bat_Delhi Capitals', 'bat_Gujarat Titans', 'bat_Kings XI Punjab',\n",
       "       'bat_Kolkata Knight Riders', 'bat_Mumbai Indians',\n",
       "       'bat_Rajasthan Royals', 'bat_Royal Challengers Bangalore',\n",
       "       'bat_Sunrisers Hyderabad', 'bowl_Delhi Capitals', 'bowl_Gujarat Titans',\n",
       "       'bowl_Kings XI Punjab', 'bowl_Kolkata Knight Riders',\n",
       "       'bowl_Mumbai Indians', 'bowl_Rajasthan Royals',\n",
       "       'bowl_Royal Challengers Bangalore', 'bowl_Sunrisers Hyderabad'],\n",
       "      dtype='object')"
      ]
     },
     "execution_count": 95,
     "metadata": {},
     "output_type": "execute_result"
    }
   ],
   "source": [
    "encoded_df.columns\n"
   ]
  },
  {
   "attachments": {},
   "cell_type": "markdown",
   "metadata": {},
   "source": [
    "#### Dropping unnecessary columns"
   ]
  },
  {
   "cell_type": "code",
   "execution_count": 96,
   "metadata": {},
   "outputs": [
    {
     "data": {
      "text/html": [
       "<div>\n",
       "<style scoped>\n",
       "    .dataframe tbody tr th:only-of-type {\n",
       "        vertical-align: middle;\n",
       "    }\n",
       "\n",
       "    .dataframe tbody tr th {\n",
       "        vertical-align: top;\n",
       "    }\n",
       "\n",
       "    .dataframe thead th {\n",
       "        text-align: right;\n",
       "    }\n",
       "</style>\n",
       "<table border=\"1\" class=\"dataframe\">\n",
       "  <thead>\n",
       "    <tr style=\"text-align: right;\">\n",
       "      <th></th>\n",
       "      <th>date</th>\n",
       "      <th>over</th>\n",
       "      <th>runs</th>\n",
       "      <th>wickets</th>\n",
       "      <th>last5_runs</th>\n",
       "      <th>last5_wickets</th>\n",
       "      <th>total</th>\n",
       "      <th>Brabourne Stadium</th>\n",
       "      <th>Dr DY Patil Sports Academy</th>\n",
       "      <th>Dr. Y.S. Rajasekhara Reddy ACA-VDCA Cricket Stadium</th>\n",
       "      <th>Eden Gardens</th>\n",
       "      <th>Feroz Shah Kotla</th>\n",
       "      <th>Himachal Pradesh Cricket Association Stadium</th>\n",
       "      <th>Holkar Cricket Stadium</th>\n",
       "      <th>JSCA International Stadium Complex</th>\n",
       "      <th>M.Chinnaswamy Stadium</th>\n",
       "      <th>MA Chidambaram Stadium, Chepauk</th>\n",
       "      <th>Maharashtra Cricket Association Stadium</th>\n",
       "      <th>Punjab Cricket Association Stadium, Mohali</th>\n",
       "      <th>Rajiv Gandhi International Stadium, Uppal</th>\n",
       "      <th>Sardar Patel Stadium, Motera</th>\n",
       "      <th>Sawai Mansingh Stadium</th>\n",
       "      <th>Shaheed Veer Narayan Singh International Stadium</th>\n",
       "      <th>Wankhede Stadium</th>\n",
       "      <th>bat_Delhi Capitals</th>\n",
       "      <th>bat_Gujarat Titans</th>\n",
       "      <th>bat_Kings XI Punjab</th>\n",
       "      <th>bat_Kolkata Knight Riders</th>\n",
       "      <th>bat_Mumbai Indians</th>\n",
       "      <th>bat_Rajasthan Royals</th>\n",
       "      <th>bat_Royal Challengers Bangalore</th>\n",
       "      <th>bat_Sunrisers Hyderabad</th>\n",
       "      <th>bowl_Delhi Capitals</th>\n",
       "      <th>bowl_Gujarat Titans</th>\n",
       "      <th>bowl_Kings XI Punjab</th>\n",
       "      <th>bowl_Kolkata Knight Riders</th>\n",
       "      <th>bowl_Mumbai Indians</th>\n",
       "      <th>bowl_Rajasthan Royals</th>\n",
       "      <th>bowl_Royal Challengers Bangalore</th>\n",
       "      <th>bowl_Sunrisers Hyderabad</th>\n",
       "    </tr>\n",
       "  </thead>\n",
       "  <tbody>\n",
       "    <tr>\n",
       "      <th>0</th>\n",
       "      <td>2008-04-18</td>\n",
       "      <td>5</td>\n",
       "      <td>61</td>\n",
       "      <td>0</td>\n",
       "      <td>59</td>\n",
       "      <td>0</td>\n",
       "      <td>222</td>\n",
       "      <td>0.0</td>\n",
       "      <td>0.0</td>\n",
       "      <td>0.0</td>\n",
       "      <td>0.0</td>\n",
       "      <td>0.0</td>\n",
       "      <td>0.0</td>\n",
       "      <td>0.0</td>\n",
       "      <td>0.0</td>\n",
       "      <td>1.0</td>\n",
       "      <td>0.0</td>\n",
       "      <td>0.0</td>\n",
       "      <td>0.0</td>\n",
       "      <td>0.0</td>\n",
       "      <td>0.0</td>\n",
       "      <td>0.0</td>\n",
       "      <td>0.0</td>\n",
       "      <td>0.0</td>\n",
       "      <td>0.0</td>\n",
       "      <td>0.0</td>\n",
       "      <td>0.0</td>\n",
       "      <td>1.0</td>\n",
       "      <td>0.0</td>\n",
       "      <td>0.0</td>\n",
       "      <td>0.0</td>\n",
       "      <td>0.0</td>\n",
       "      <td>0.0</td>\n",
       "      <td>0.0</td>\n",
       "      <td>0.0</td>\n",
       "      <td>0.0</td>\n",
       "      <td>0.0</td>\n",
       "      <td>0.0</td>\n",
       "      <td>1.0</td>\n",
       "      <td>0.0</td>\n",
       "    </tr>\n",
       "    <tr>\n",
       "      <th>1</th>\n",
       "      <td>2008-04-18</td>\n",
       "      <td>5</td>\n",
       "      <td>61</td>\n",
       "      <td>1</td>\n",
       "      <td>59</td>\n",
       "      <td>1</td>\n",
       "      <td>222</td>\n",
       "      <td>0.0</td>\n",
       "      <td>0.0</td>\n",
       "      <td>0.0</td>\n",
       "      <td>0.0</td>\n",
       "      <td>0.0</td>\n",
       "      <td>0.0</td>\n",
       "      <td>0.0</td>\n",
       "      <td>0.0</td>\n",
       "      <td>1.0</td>\n",
       "      <td>0.0</td>\n",
       "      <td>0.0</td>\n",
       "      <td>0.0</td>\n",
       "      <td>0.0</td>\n",
       "      <td>0.0</td>\n",
       "      <td>0.0</td>\n",
       "      <td>0.0</td>\n",
       "      <td>0.0</td>\n",
       "      <td>0.0</td>\n",
       "      <td>0.0</td>\n",
       "      <td>0.0</td>\n",
       "      <td>1.0</td>\n",
       "      <td>0.0</td>\n",
       "      <td>0.0</td>\n",
       "      <td>0.0</td>\n",
       "      <td>0.0</td>\n",
       "      <td>0.0</td>\n",
       "      <td>0.0</td>\n",
       "      <td>0.0</td>\n",
       "      <td>0.0</td>\n",
       "      <td>0.0</td>\n",
       "      <td>0.0</td>\n",
       "      <td>1.0</td>\n",
       "      <td>0.0</td>\n",
       "    </tr>\n",
       "    <tr>\n",
       "      <th>2</th>\n",
       "      <td>2008-04-18</td>\n",
       "      <td>5</td>\n",
       "      <td>61</td>\n",
       "      <td>1</td>\n",
       "      <td>59</td>\n",
       "      <td>1</td>\n",
       "      <td>222</td>\n",
       "      <td>0.0</td>\n",
       "      <td>0.0</td>\n",
       "      <td>0.0</td>\n",
       "      <td>0.0</td>\n",
       "      <td>0.0</td>\n",
       "      <td>0.0</td>\n",
       "      <td>0.0</td>\n",
       "      <td>0.0</td>\n",
       "      <td>1.0</td>\n",
       "      <td>0.0</td>\n",
       "      <td>0.0</td>\n",
       "      <td>0.0</td>\n",
       "      <td>0.0</td>\n",
       "      <td>0.0</td>\n",
       "      <td>0.0</td>\n",
       "      <td>0.0</td>\n",
       "      <td>0.0</td>\n",
       "      <td>0.0</td>\n",
       "      <td>0.0</td>\n",
       "      <td>0.0</td>\n",
       "      <td>1.0</td>\n",
       "      <td>0.0</td>\n",
       "      <td>0.0</td>\n",
       "      <td>0.0</td>\n",
       "      <td>0.0</td>\n",
       "      <td>0.0</td>\n",
       "      <td>0.0</td>\n",
       "      <td>0.0</td>\n",
       "      <td>0.0</td>\n",
       "      <td>0.0</td>\n",
       "      <td>0.0</td>\n",
       "      <td>1.0</td>\n",
       "      <td>0.0</td>\n",
       "    </tr>\n",
       "    <tr>\n",
       "      <th>3</th>\n",
       "      <td>2008-04-18</td>\n",
       "      <td>5</td>\n",
       "      <td>61</td>\n",
       "      <td>1</td>\n",
       "      <td>59</td>\n",
       "      <td>1</td>\n",
       "      <td>222</td>\n",
       "      <td>0.0</td>\n",
       "      <td>0.0</td>\n",
       "      <td>0.0</td>\n",
       "      <td>0.0</td>\n",
       "      <td>0.0</td>\n",
       "      <td>0.0</td>\n",
       "      <td>0.0</td>\n",
       "      <td>0.0</td>\n",
       "      <td>1.0</td>\n",
       "      <td>0.0</td>\n",
       "      <td>0.0</td>\n",
       "      <td>0.0</td>\n",
       "      <td>0.0</td>\n",
       "      <td>0.0</td>\n",
       "      <td>0.0</td>\n",
       "      <td>0.0</td>\n",
       "      <td>0.0</td>\n",
       "      <td>0.0</td>\n",
       "      <td>0.0</td>\n",
       "      <td>0.0</td>\n",
       "      <td>1.0</td>\n",
       "      <td>0.0</td>\n",
       "      <td>0.0</td>\n",
       "      <td>0.0</td>\n",
       "      <td>0.0</td>\n",
       "      <td>0.0</td>\n",
       "      <td>0.0</td>\n",
       "      <td>0.0</td>\n",
       "      <td>0.0</td>\n",
       "      <td>0.0</td>\n",
       "      <td>0.0</td>\n",
       "      <td>1.0</td>\n",
       "      <td>0.0</td>\n",
       "    </tr>\n",
       "    <tr>\n",
       "      <th>4</th>\n",
       "      <td>2008-04-18</td>\n",
       "      <td>5</td>\n",
       "      <td>61</td>\n",
       "      <td>1</td>\n",
       "      <td>58</td>\n",
       "      <td>1</td>\n",
       "      <td>222</td>\n",
       "      <td>0.0</td>\n",
       "      <td>0.0</td>\n",
       "      <td>0.0</td>\n",
       "      <td>0.0</td>\n",
       "      <td>0.0</td>\n",
       "      <td>0.0</td>\n",
       "      <td>0.0</td>\n",
       "      <td>0.0</td>\n",
       "      <td>1.0</td>\n",
       "      <td>0.0</td>\n",
       "      <td>0.0</td>\n",
       "      <td>0.0</td>\n",
       "      <td>0.0</td>\n",
       "      <td>0.0</td>\n",
       "      <td>0.0</td>\n",
       "      <td>0.0</td>\n",
       "      <td>0.0</td>\n",
       "      <td>0.0</td>\n",
       "      <td>0.0</td>\n",
       "      <td>0.0</td>\n",
       "      <td>1.0</td>\n",
       "      <td>0.0</td>\n",
       "      <td>0.0</td>\n",
       "      <td>0.0</td>\n",
       "      <td>0.0</td>\n",
       "      <td>0.0</td>\n",
       "      <td>0.0</td>\n",
       "      <td>0.0</td>\n",
       "      <td>0.0</td>\n",
       "      <td>0.0</td>\n",
       "      <td>0.0</td>\n",
       "      <td>1.0</td>\n",
       "      <td>0.0</td>\n",
       "    </tr>\n",
       "  </tbody>\n",
       "</table>\n",
       "</div>"
      ],
      "text/plain": [
       "        date  over  runs  wickets  last5_runs  last5_wickets  total  \\\n",
       "0 2008-04-18     5    61        0          59              0    222   \n",
       "1 2008-04-18     5    61        1          59              1    222   \n",
       "2 2008-04-18     5    61        1          59              1    222   \n",
       "3 2008-04-18     5    61        1          59              1    222   \n",
       "4 2008-04-18     5    61        1          58              1    222   \n",
       "\n",
       "   Brabourne Stadium  Dr DY Patil Sports Academy  \\\n",
       "0                0.0                         0.0   \n",
       "1                0.0                         0.0   \n",
       "2                0.0                         0.0   \n",
       "3                0.0                         0.0   \n",
       "4                0.0                         0.0   \n",
       "\n",
       "   Dr. Y.S. Rajasekhara Reddy ACA-VDCA Cricket Stadium  Eden Gardens  \\\n",
       "0                                                0.0             0.0   \n",
       "1                                                0.0             0.0   \n",
       "2                                                0.0             0.0   \n",
       "3                                                0.0             0.0   \n",
       "4                                                0.0             0.0   \n",
       "\n",
       "   Feroz Shah Kotla  Himachal Pradesh Cricket Association Stadium  \\\n",
       "0               0.0                                           0.0   \n",
       "1               0.0                                           0.0   \n",
       "2               0.0                                           0.0   \n",
       "3               0.0                                           0.0   \n",
       "4               0.0                                           0.0   \n",
       "\n",
       "   Holkar Cricket Stadium  JSCA International Stadium Complex  \\\n",
       "0                     0.0                                 0.0   \n",
       "1                     0.0                                 0.0   \n",
       "2                     0.0                                 0.0   \n",
       "3                     0.0                                 0.0   \n",
       "4                     0.0                                 0.0   \n",
       "\n",
       "   M.Chinnaswamy Stadium  MA Chidambaram Stadium, Chepauk  \\\n",
       "0                    1.0                              0.0   \n",
       "1                    1.0                              0.0   \n",
       "2                    1.0                              0.0   \n",
       "3                    1.0                              0.0   \n",
       "4                    1.0                              0.0   \n",
       "\n",
       "   Maharashtra Cricket Association Stadium  \\\n",
       "0                                      0.0   \n",
       "1                                      0.0   \n",
       "2                                      0.0   \n",
       "3                                      0.0   \n",
       "4                                      0.0   \n",
       "\n",
       "   Punjab Cricket Association Stadium, Mohali  \\\n",
       "0                                         0.0   \n",
       "1                                         0.0   \n",
       "2                                         0.0   \n",
       "3                                         0.0   \n",
       "4                                         0.0   \n",
       "\n",
       "   Rajiv Gandhi International Stadium, Uppal  Sardar Patel Stadium, Motera  \\\n",
       "0                                        0.0                           0.0   \n",
       "1                                        0.0                           0.0   \n",
       "2                                        0.0                           0.0   \n",
       "3                                        0.0                           0.0   \n",
       "4                                        0.0                           0.0   \n",
       "\n",
       "   Sawai Mansingh Stadium  Shaheed Veer Narayan Singh International Stadium  \\\n",
       "0                     0.0                                               0.0   \n",
       "1                     0.0                                               0.0   \n",
       "2                     0.0                                               0.0   \n",
       "3                     0.0                                               0.0   \n",
       "4                     0.0                                               0.0   \n",
       "\n",
       "   Wankhede Stadium  bat_Delhi Capitals  bat_Gujarat Titans  \\\n",
       "0               0.0                 0.0                 0.0   \n",
       "1               0.0                 0.0                 0.0   \n",
       "2               0.0                 0.0                 0.0   \n",
       "3               0.0                 0.0                 0.0   \n",
       "4               0.0                 0.0                 0.0   \n",
       "\n",
       "   bat_Kings XI Punjab  bat_Kolkata Knight Riders  bat_Mumbai Indians  \\\n",
       "0                  0.0                        1.0                 0.0   \n",
       "1                  0.0                        1.0                 0.0   \n",
       "2                  0.0                        1.0                 0.0   \n",
       "3                  0.0                        1.0                 0.0   \n",
       "4                  0.0                        1.0                 0.0   \n",
       "\n",
       "   bat_Rajasthan Royals  bat_Royal Challengers Bangalore  \\\n",
       "0                   0.0                              0.0   \n",
       "1                   0.0                              0.0   \n",
       "2                   0.0                              0.0   \n",
       "3                   0.0                              0.0   \n",
       "4                   0.0                              0.0   \n",
       "\n",
       "   bat_Sunrisers Hyderabad  bowl_Delhi Capitals  bowl_Gujarat Titans  \\\n",
       "0                      0.0                  0.0                  0.0   \n",
       "1                      0.0                  0.0                  0.0   \n",
       "2                      0.0                  0.0                  0.0   \n",
       "3                      0.0                  0.0                  0.0   \n",
       "4                      0.0                  0.0                  0.0   \n",
       "\n",
       "   bowl_Kings XI Punjab  bowl_Kolkata Knight Riders  bowl_Mumbai Indians  \\\n",
       "0                   0.0                         0.0                  0.0   \n",
       "1                   0.0                         0.0                  0.0   \n",
       "2                   0.0                         0.0                  0.0   \n",
       "3                   0.0                         0.0                  0.0   \n",
       "4                   0.0                         0.0                  0.0   \n",
       "\n",
       "   bowl_Rajasthan Royals  bowl_Royal Challengers Bangalore  \\\n",
       "0                    0.0                               1.0   \n",
       "1                    0.0                               1.0   \n",
       "2                    0.0                               1.0   \n",
       "3                    0.0                               1.0   \n",
       "4                    0.0                               1.0   \n",
       "\n",
       "   bowl_Sunrisers Hyderabad  \n",
       "0                       0.0  \n",
       "1                       0.0  \n",
       "2                       0.0  \n",
       "3                       0.0  \n",
       "4                       0.0  "
      ]
     },
     "execution_count": 96,
     "metadata": {},
     "output_type": "execute_result"
    }
   ],
   "source": [
    "encoded_df.drop(columns=['id', 'venue', 'inning',\n",
    "                'batting_team', 'bowling_team'], inplace=True)\n",
    "encoded_df.head()\n"
   ]
  },
  {
   "attachments": {},
   "cell_type": "markdown",
   "metadata": {},
   "source": [
    "#### Splitting data into training and test data"
   ]
  },
  {
   "cell_type": "code",
   "execution_count": 97,
   "metadata": {},
   "outputs": [],
   "source": [
    "X_train = encoded_df.drop(columns='total')[encoded_df.date.dt.year <= 2017]\n",
    "X_test = encoded_df.drop(columns='total')[encoded_df.date.dt.year >= 2018]\n"
   ]
  },
  {
   "cell_type": "code",
   "execution_count": 98,
   "metadata": {},
   "outputs": [],
   "source": [
    "y_train = encoded_df[encoded_df.date.dt.year <= 2017]['total'].values\n",
    "y_test = encoded_df[encoded_df.date.dt.year >= 2018]['total'].values\n"
   ]
  },
  {
   "cell_type": "code",
   "execution_count": 99,
   "metadata": {},
   "outputs": [],
   "source": [
    "X_train = X_train.drop(columns='date').values\n",
    "X_test = X_test.drop(columns='date').values\n"
   ]
  },
  {
   "cell_type": "code",
   "execution_count": 101,
   "metadata": {},
   "outputs": [],
   "source": [
    "from sklearn.preprocessing import StandardScaler\n"
   ]
  },
  {
   "attachments": {},
   "cell_type": "markdown",
   "metadata": {},
   "source": [
    "#### Scaling training and test data"
   ]
  },
  {
   "cell_type": "code",
   "execution_count": null,
   "metadata": {},
   "outputs": [],
   "source": [
    "scaler = StandardScaler()\n",
    "X_train = scaler.fit_transform(X_train)\n",
    "X_test = scaler.transform(X_test)\n"
   ]
  },
  {
   "cell_type": "code",
   "execution_count": 133,
   "metadata": {},
   "outputs": [],
   "source": [
    "def evaluate(Y_true, Y_pred): return print(f'R2 score = {r2_score(Y_true, Y_pred)} \\\n",
    "                                        \\nMAE = {mean_absolute_error(Y_true,Y_pred)} \\\n",
    "                                        \\nMSE = {mean_squared_error(Y_true,Y_pred)} \\\n",
    "                                        \\nRMSE = {np.sqrt(mean_squared_error(Y_true,Y_pred))}')\n",
    "\n",
    "\n",
    "'''This function calculates regression evaluation metrics, namely, r2 score, mean absolute error, \n",
    "   mean squared error and root mean squared error. It takes Y_true (the actual values) \n",
    "   and Y_pred (the predicted values) as input and prints the output.'''\n"
   ]
  },
  {
   "attachments": {},
   "cell_type": "markdown",
   "metadata": {},
   "source": [
    "#### Linear Regression Model"
   ]
  },
  {
   "cell_type": "code",
   "execution_count": 100,
   "metadata": {},
   "outputs": [],
   "source": [
    "from sklearn.linear_model import LinearRegression\n",
    "from sklearn.metrics import r2_score, mean_absolute_error, mean_squared_error\n"
   ]
  },
  {
   "cell_type": "code",
   "execution_count": 102,
   "metadata": {},
   "outputs": [],
   "source": [
    "\n",
    "regressor = LinearRegression()\n",
    "regressor.fit(X_train, y_train)\n",
    "\n",
    "y_pred = regressor.predict(X_test)\n"
   ]
  },
  {
   "cell_type": "code",
   "execution_count": 134,
   "metadata": {},
   "outputs": [
    {
     "name": "stdout",
     "output_type": "stream",
     "text": [
      "R2 score = 0.5032298772597616                                         \n",
      "MAE = 14.850463675983068                                         \n",
      "MSE = 393.6718298939523                                         \n",
      "RMSE = 19.841165033685705\n"
     ]
    }
   ],
   "source": [
    "evaluate(y_test, y_pred)\n"
   ]
  },
  {
   "cell_type": "code",
   "execution_count": 104,
   "metadata": {},
   "outputs": [
    {
     "name": "stderr",
     "output_type": "stream",
     "text": [
      "C:\\Users\\SIDDHANT\\AppData\\Local\\Temp\\ipykernel_808\\523175245.py:1: UserWarning: \n",
      "\n",
      "`distplot` is a deprecated function and will be removed in seaborn v0.14.0.\n",
      "\n",
      "Please adapt your code to use either `displot` (a figure-level function with\n",
      "similar flexibility) or `histplot` (an axes-level function for histograms).\n",
      "\n",
      "For a guide to updating your code to use the new functions, please see\n",
      "https://gist.github.com/mwaskom/de44147ed2974457ad6372750bbe5751\n",
      "\n",
      "  sns.distplot(y_test - y_pred)\n"
     ]
    },
    {
     "data": {
      "image/png": "[encoded data removed]",
      "text/plain": [
       "<Figure size 640x480 with 1 Axes>"
      ]
     },
     "metadata": {},
     "output_type": "display_data"
    }
   ],
   "source": [
    "sns.distplot(y_test - y_pred)\n",
    "plt.show()\n"
   ]
  },
  {
   "cell_type": "code",
   "execution_count": 105,
   "metadata": {},
   "outputs": [
    {
     "data": {
      "text/plain": [
       "2.9287529126288008"
      ]
     },
     "execution_count": 105,
     "metadata": {},
     "output_type": "execute_result"
    }
   ],
   "source": [
    "(y_test - y_pred).mean()\n"
   ]
  },
  {
   "cell_type": "code",
   "execution_count": 106,
   "metadata": {},
   "outputs": [
    {
     "data": {
      "text/plain": [
       "19.62381808595668"
      ]
     },
     "execution_count": 106,
     "metadata": {},
     "output_type": "execute_result"
    }
   ],
   "source": [
    "(y_test - y_pred).std()\n"
   ]
  },
  {
   "attachments": {},
   "cell_type": "markdown",
   "metadata": {},
   "source": [
    "#### Lasso Regression with hyperparameter tuning"
   ]
  },
  {
   "cell_type": "code",
   "execution_count": 107,
   "metadata": {},
   "outputs": [],
   "source": [
    "from sklearn.linear_model import Lasso\n",
    "from sklearn.model_selection import GridSearchCV\n"
   ]
  },
  {
   "cell_type": "code",
   "execution_count": 110,
   "metadata": {},
   "outputs": [],
   "source": [
    "hyper_params = {'alpha': [1e-7, 1e-4, 1e-2, 1e-1, 1, 5, 10, 15]}\n",
    "\n",
    "lasso_regressor = GridSearchCV(\n",
    "    Lasso(), hyper_params, scoring='r2', cv=5, n_jobs=-1)\n"
   ]
  },
  {
   "cell_type": "code",
   "execution_count": 111,
   "metadata": {},
   "outputs": [
    {
     "name": "stdout",
     "output_type": "stream",
     "text": [
      "{'alpha': 0.1}\n",
      "0.5879353187826778\n"
     ]
    }
   ],
   "source": [
    "lasso_regressor.fit(X_train, y_train)\n",
    "print(lasso_regressor.best_params_)\n",
    "print(lasso_regressor.best_score_)\n"
   ]
  },
  {
   "cell_type": "code",
   "execution_count": 135,
   "metadata": {},
   "outputs": [
    {
     "name": "stdout",
     "output_type": "stream",
     "text": [
      "R2 score = 0.5103255968500358                                         \n",
      "MAE = 14.74646783869399                                         \n",
      "MSE = 388.0487362583911                                         \n",
      "RMSE = 19.698952669073325\n"
     ]
    }
   ],
   "source": [
    "y_pred_lasso = lasso_regressor.predict(X_test)\n",
    "\n",
    "evaluate(y_test, y_pred_lasso)\n"
   ]
  },
  {
   "cell_type": "code",
   "execution_count": 113,
   "metadata": {},
   "outputs": [
    {
     "name": "stderr",
     "output_type": "stream",
     "text": [
      "C:\\Users\\SIDDHANT\\AppData\\Local\\Temp\\ipykernel_808\\3726641957.py:1: UserWarning: \n",
      "\n",
      "`distplot` is a deprecated function and will be removed in seaborn v0.14.0.\n",
      "\n",
      "Please adapt your code to use either `displot` (a figure-level function with\n",
      "similar flexibility) or `histplot` (an axes-level function for histograms).\n",
      "\n",
      "For a guide to updating your code to use the new functions, please see\n",
      "https://gist.github.com/mwaskom/de44147ed2974457ad6372750bbe5751\n",
      "\n",
      "  sns.distplot(y_test - y_pred_lasso)\n"
     ]
    },
    {
     "data": {
      "image/png": "[encoded data removed]",
      "text/plain": [
       "<Figure size 640x480 with 1 Axes>"
      ]
     },
     "metadata": {},
     "output_type": "display_data"
    }
   ],
   "source": [
    "sns.distplot(y_test - y_pred_lasso)\n",
    "plt.show()\n"
   ]
  },
  {
   "cell_type": "code",
   "execution_count": 114,
   "metadata": {},
   "outputs": [
    {
     "data": {
      "text/plain": [
       "3.190659518347245"
      ]
     },
     "execution_count": 114,
     "metadata": {},
     "output_type": "execute_result"
    }
   ],
   "source": [
    "(y_test - y_pred_lasso).mean()\n"
   ]
  },
  {
   "cell_type": "code",
   "execution_count": 115,
   "metadata": {},
   "outputs": [
    {
     "data": {
      "text/plain": [
       "19.438838136482623"
      ]
     },
     "execution_count": 115,
     "metadata": {},
     "output_type": "execute_result"
    }
   ],
   "source": [
    "(y_test - y_pred_lasso).std()\n"
   ]
  },
  {
   "attachments": {},
   "cell_type": "markdown",
   "metadata": {},
   "source": [
    "#### Random Forest Regression with hyperparameter tuning"
   ]
  },
  {
   "cell_type": "code",
   "execution_count": 116,
   "metadata": {},
   "outputs": [],
   "source": [
    "from sklearn.ensemble import RandomForestRegressor\n",
    "from sklearn.model_selection import RandomizedSearchCV\n"
   ]
  },
  {
   "cell_type": "code",
   "execution_count": 118,
   "metadata": {},
   "outputs": [
    {
     "name": "stdout",
     "output_type": "stream",
     "text": [
      "{'n_estimators': 100, 'max_features': 'sqrt', 'criterion': 'poisson'}\n",
      "0.47558238703755146\n"
     ]
    }
   ],
   "source": [
    "hyper_params = {'n_estimators': [10, 30, 50, 70, 100, 120],\n",
    "                'criterion': ['squared_error', 'absolute_error', 'poisson'],\n",
    "                'max_features': ['sqrt', 'log2', None]}\n",
    "\n",
    "random_forest_regressor = RandomizedSearchCV(RandomForestRegressor(), hyper_params,\n",
    "                                             scoring='r2', cv=3, n_jobs=-1)\n",
    "\n",
    "random_forest_regressor.fit(X_train, y_train)\n",
    "print(random_forest_regressor.best_params_)\n",
    "print(random_forest_regressor.best_score_)\n"
   ]
  },
  {
   "cell_type": "code",
   "execution_count": 136,
   "metadata": {},
   "outputs": [
    {
     "name": "stdout",
     "output_type": "stream",
     "text": [
      "R2 score = 0.35658704596642754                                         \n",
      "MAE = 16.765162352029375                                         \n",
      "MSE = 509.8808148820925                                         \n",
      "RMSE = 22.580540624220948\n"
     ]
    }
   ],
   "source": [
    "y_pred_random = random_forest_regressor.predict(X_test)\n",
    "\n",
    "evaluate(y_test, y_pred_random)\n"
   ]
  },
  {
   "cell_type": "code",
   "execution_count": 120,
   "metadata": {},
   "outputs": [
    {
     "name": "stderr",
     "output_type": "stream",
     "text": [
      "C:\\Users\\SIDDHANT\\AppData\\Local\\Temp\\ipykernel_808\\2391271705.py:1: UserWarning: \n",
      "\n",
      "`distplot` is a deprecated function and will be removed in seaborn v0.14.0.\n",
      "\n",
      "Please adapt your code to use either `displot` (a figure-level function with\n",
      "similar flexibility) or `histplot` (an axes-level function for histograms).\n",
      "\n",
      "For a guide to updating your code to use the new functions, please see\n",
      "https://gist.github.com/mwaskom/de44147ed2974457ad6372750bbe5751\n",
      "\n",
      "  sns.distplot(y_test - y_pred_random)\n"
     ]
    },
    {
     "data": {
      "image/png": "[encoded data removed]",
      "text/plain": [
       "<Figure size 640x480 with 1 Axes>"
      ]
     },
     "metadata": {},
     "output_type": "display_data"
    }
   ],
   "source": [
    "sns.distplot(y_test - y_pred_random)\n",
    "plt.show()\n"
   ]
  },
  {
   "cell_type": "code",
   "execution_count": 121,
   "metadata": {},
   "outputs": [
    {
     "data": {
      "text/plain": [
       "5.634411828124595"
      ]
     },
     "execution_count": 121,
     "metadata": {},
     "output_type": "execute_result"
    }
   ],
   "source": [
    "(y_test - y_pred_random).mean()\n"
   ]
  },
  {
   "cell_type": "code",
   "execution_count": 122,
   "metadata": {},
   "outputs": [
    {
     "data": {
      "text/plain": [
       "21.866280393180322"
      ]
     },
     "execution_count": 122,
     "metadata": {},
     "output_type": "execute_result"
    }
   ],
   "source": [
    "(y_test - y_pred_random).std()\n"
   ]
  },
  {
   "attachments": {},
   "cell_type": "markdown",
   "metadata": {},
   "source": [
    "#### Ensemble regression model based on mean "
   ]
  },
  {
   "cell_type": "code",
   "execution_count": 125,
   "metadata": {},
   "outputs": [],
   "source": [
    "y_pred_ensemble = [(y_pred[i] + y_pred_lasso[i] +\n",
    "                    y_pred_random[i])//3 for i in range(len(y_test))]\n"
   ]
  },
  {
   "cell_type": "code",
   "execution_count": 126,
   "metadata": {},
   "outputs": [
    {
     "name": "stderr",
     "output_type": "stream",
     "text": [
      "C:\\Users\\SIDDHANT\\AppData\\Local\\Temp\\ipykernel_808\\1472871083.py:1: UserWarning: \n",
      "\n",
      "`distplot` is a deprecated function and will be removed in seaborn v0.14.0.\n",
      "\n",
      "Please adapt your code to use either `displot` (a figure-level function with\n",
      "similar flexibility) or `histplot` (an axes-level function for histograms).\n",
      "\n",
      "For a guide to updating your code to use the new functions, please see\n",
      "https://gist.github.com/mwaskom/de44147ed2974457ad6372750bbe5751\n",
      "\n",
      "  sns.distplot(y_test - y_pred_ensemble)\n"
     ]
    },
    {
     "data": {
      "image/png": "[encoded data removed]",
      "text/plain": [
       "<Figure size 640x480 with 1 Axes>"
      ]
     },
     "metadata": {},
     "output_type": "display_data"
    }
   ],
   "source": [
    "sns.distplot(y_test - y_pred_ensemble)\n",
    "plt.show()\n"
   ]
  },
  {
   "cell_type": "code",
   "execution_count": 137,
   "metadata": {},
   "outputs": [
    {
     "name": "stdout",
     "output_type": "stream",
     "text": [
      "R2 score = 0.4957777318732062                                         \n",
      "MAE = 14.70794689943626                                         \n",
      "MSE = 399.5773777050373                                         \n",
      "RMSE = 19.989431650375586\n"
     ]
    }
   ],
   "source": [
    "evaluate(y_test, y_pred_ensemble)\n"
   ]
  },
  {
   "cell_type": "code",
   "execution_count": 127,
   "metadata": {},
   "outputs": [
    {
     "data": {
      "text/plain": [
       "4.417166757592289"
      ]
     },
     "execution_count": 127,
     "metadata": {},
     "output_type": "execute_result"
    }
   ],
   "source": [
    "(y_test - y_pred_ensemble).mean()\n"
   ]
  },
  {
   "cell_type": "code",
   "execution_count": 128,
   "metadata": {},
   "outputs": [
    {
     "data": {
      "text/plain": [
       "19.49528187897418"
      ]
     },
     "execution_count": 128,
     "metadata": {},
     "output_type": "execute_result"
    }
   ],
   "source": [
    "(y_test - y_pred_ensemble).std()\n"
   ]
  },
  {
   "attachments": {},
   "cell_type": "markdown",
   "metadata": {},
   "source": [
    "## Dumping the regression model"
   ]
  },
  {
   "cell_type": "code",
   "execution_count": 130,
   "metadata": {},
   "outputs": [],
   "source": [
    "file = 'first-innings_score_predictor.pkl'\n",
    "pickle.dump(lasso_regressor, open(file, 'wb'))\n",
    "#Lasso regressor performs the best based on r2 score\n"
   ]
  },
  {
   "cell_type": "code",
   "execution_count": 117,
   "metadata": {},
   "outputs": [],
   "source": [
    "venue_encoder = 'venue_encoder.pkl'\n",
    "pickle.dump(ohe_venue, open(venue_encoder, 'wb'))\n",
    "\n",
    "bat_team_encoder = 'bat_team_encoder.pkl'\n",
    "pickle.dump(ohe_bat_team, open(bat_team_encoder, 'wb'))\n",
    "\n",
    "bowl_team_encoder = 'bowl_team_encoder.pkl'\n",
    "pickle.dump(ohe_bowl_team, open(bowl_team_encoder, 'wb'))\n",
    "\n",
    "scaler_dump = 'scaler.pkl'\n",
    "pickle.dump(scaler, open(scaler_dump, 'wb'))\n"
   ]
  }
 ],
 "metadata": {
  "kernelspec": {
   "display_name": "Python 3",
   "language": "python",
   "name": "python3"
  },
  "language_info": {
   "codemirror_mode": {
    "name": "ipython",
    "version": 3
   },
   "file_extension": ".py",
   "mimetype": "text/x-python",
   "name": "python",
   "nbconvert_exporter": "python",
   "pygments_lexer": "ipython3",
   "version": "3.10.7"
  },
  "orig_nbformat": 4,
  "vscode": {
   "interpreter": {
    "hash": "369f2c481f4da34e4445cda3fffd2e751bd1c4d706f27375911949ba6bb62e1c"
   }
  }
 },
 "nbformat": 4,
 "nbformat_minor": 2
}
